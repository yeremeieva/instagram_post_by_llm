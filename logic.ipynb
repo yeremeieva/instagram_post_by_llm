{
 "nbformat": 4,
 "nbformat_minor": 0,
 "metadata": {
  "colab": {
   "provenance": [],
   "gpuType": "T4"
  },
  "kernelspec": {
   "name": "python3",
   "display_name": "Python 3 (ipykernel)",
   "language": "python"
  },
  "language_info": {
   "name": "python"
  },
  "accelerator": "GPU"
 },
 "cells": [
  {
   "cell_type": "markdown",
   "source": [
    "# Imports\n"
   ],
   "metadata": {
    "id": "9jZnXBxT9bmD"
   }
  },
  {
   "cell_type": "code",
   "source": [
    "!pip install -q langchain_community langchain sentence-transformers chromadb"
   ],
   "metadata": {
    "id": "H-CeEwp0-_9j"
   },
   "execution_count": null,
   "outputs": []
  },
  {
   "cell_type": "code",
   "source": [
    "import os\n",
    "import re\n",
    "import pandas as pd\n",
    "import matplotlib.pyplot as plt\n",
    "from langchain import FewShotPromptTemplate, PromptTemplate\n",
    "from langchain.chains import LLMChain\n",
    "from langchain_community.llms import HuggingFaceEndpoint\n",
    "from langchain_community.embeddings import HuggingFaceEmbeddings\n",
    "from langchain_community.vectorstores import Chroma\n",
    "from langchain.prompts.example_selector import SemanticSimilarityExampleSelector"
   ],
   "metadata": {
    "id": "7U6wXgUP9hbY",
    "ExecuteTime": {
     "end_time": "2024-04-13T15:07:56.498711Z",
     "start_time": "2024-04-13T15:07:55.448638Z"
    }
   },
   "outputs": [],
   "execution_count": 1
  },
  {
   "cell_type": "markdown",
   "source": "# Scraping Dataset Analysis",
   "metadata": {
    "id": "xxBngyRB5azW"
   }
  },
  {
   "cell_type": "markdown",
   "source": [
    "### Description of dataset"
   ],
   "metadata": {
    "id": "8mC0atfq-uuN"
   }
  },
  {
   "cell_type": "markdown",
   "source": [
    "Let us load the dataset and look through its structure."
   ],
   "metadata": {
    "id": "pcGMpJir3h93"
   }
  },
  {
   "cell_type": "code",
   "execution_count": 4,
   "metadata": {
    "id": "JIKetCLG5TAq"
   },
   "outputs": [],
   "source": "dataset = pd.read_csv('dataset.csv')"
  },
  {
   "cell_type": "code",
   "source": [
    "pd.set_option('display.max_colwidth', 20)"
   ],
   "metadata": {
    "id": "eCfKV-iiDXfS"
   },
   "execution_count": 5,
   "outputs": []
  },
  {
   "cell_type": "code",
   "source": [
    "dataset.head()"
   ],
   "metadata": {
    "colab": {
     "base_uri": "https://localhost:8080/",
     "height": 359
    },
    "id": "kJLYjqcH9tSx",
    "outputId": "a1578f47-5fdd-4b24-b362-a0242953ef34"
   },
   "execution_count": 6,
   "outputs": [
    {
     "output_type": "execute_result",
     "data": {
      "text/plain": [
       "                   alt              caption     childPosts/0/alt  \\\n",
       "0  Photo shared by ...  For a half centu...                  NaN   \n",
       "1                  NaN  Even on a solo h...                  NaN   \n",
       "2                  NaN  Optimal performa...  Photo by Osprey ...   \n",
       "3                  NaN  However your spr...                  NaN   \n",
       "4                  NaN  Elevate your tim...                  NaN   \n",
       "\n",
       "   childPosts/0/caption  childPosts/0/commentsCount  \\\n",
       "0                  NaN                   NaN          \n",
       "1                  NaN                   NaN          \n",
       "2                  NaN                   0.0          \n",
       "3                  NaN                   NaN          \n",
       "4                  NaN                   NaN          \n",
       "\n",
       "   childPosts/0/dimensionsHeight  childPosts/0/dimensionsWidth  \\\n",
       "0                  NaN                            NaN            \n",
       "1                  NaN                            NaN            \n",
       "2               1350.0                         1080.0            \n",
       "3                  NaN                            NaN            \n",
       "4                  NaN                            NaN            \n",
       "\n",
       "  childPosts/0/displayUrl  childPosts/0/firstComment  childPosts/0/id  ...  \\\n",
       "0                  NaN                     NaN                    NaN  ...   \n",
       "1                  NaN                     NaN                    NaN  ...   \n",
       "2  https://scontent...                     NaN           3.337524e+18  ...   \n",
       "3                  NaN                     NaN                    NaN  ...   \n",
       "4                  NaN                     NaN                    NaN  ...   \n",
       "\n",
       "   taggedUsers/12/is_verified  taggedUsers/12/profile_pic_url  \\\n",
       "0                  NaN                         NaN              \n",
       "1                  NaN                         NaN              \n",
       "2                  NaN                         NaN              \n",
       "3                  NaN                         NaN              \n",
       "4                  NaN                         NaN              \n",
       "\n",
       "  taggedUsers/12/username            timestamp     type                  url  \\\n",
       "0                  NaN     2024-03-25T18:45...    Image  https://www.inst...   \n",
       "1                  NaN     2024-04-05T20:05...    Video  https://www.inst...   \n",
       "2                  NaN     2024-04-02T18:51...  Sidecar  https://www.inst...   \n",
       "3                  NaN     2024-03-28T16:44...    Video  https://www.inst...   \n",
       "4                  NaN     2024-04-09T21:09...    Video  https://www.inst...   \n",
       "\n",
       "  videoDuration videoPlayCount             videoUrl  videoViewCount  \n",
       "0           NaN            NaN                  NaN             NaN  \n",
       "1         7.166        13562.0  https://scontent...          2244.0  \n",
       "2           NaN            NaN                  NaN             NaN  \n",
       "3         9.380        17937.0  https://scontent...          3350.0  \n",
       "4         9.937         4834.0  https://instagra...           751.0  \n",
       "\n",
       "[5 rows x 564 columns]"
      ],
      "text/html": [
       "\n",
       "  <div id=\"df-34b53924-04b2-4544-abfe-300e888840cf\" class=\"colab-df-container\">\n",
       "    <div>\n",
       "<style scoped>\n",
       "    .dataframe tbody tr th:only-of-type {\n",
       "        vertical-align: middle;\n",
       "    }\n",
       "\n",
       "    .dataframe tbody tr th {\n",
       "        vertical-align: top;\n",
       "    }\n",
       "\n",
       "    .dataframe thead th {\n",
       "        text-align: right;\n",
       "    }\n",
       "</style>\n",
       "<table border=\"1\" class=\"dataframe\">\n",
       "  <thead>\n",
       "    <tr style=\"text-align: right;\">\n",
       "      <th></th>\n",
       "      <th>alt</th>\n",
       "      <th>caption</th>\n",
       "      <th>childPosts/0/alt</th>\n",
       "      <th>childPosts/0/caption</th>\n",
       "      <th>childPosts/0/commentsCount</th>\n",
       "      <th>childPosts/0/dimensionsHeight</th>\n",
       "      <th>childPosts/0/dimensionsWidth</th>\n",
       "      <th>childPosts/0/displayUrl</th>\n",
       "      <th>childPosts/0/firstComment</th>\n",
       "      <th>childPosts/0/id</th>\n",
       "      <th>...</th>\n",
       "      <th>taggedUsers/12/is_verified</th>\n",
       "      <th>taggedUsers/12/profile_pic_url</th>\n",
       "      <th>taggedUsers/12/username</th>\n",
       "      <th>timestamp</th>\n",
       "      <th>type</th>\n",
       "      <th>url</th>\n",
       "      <th>videoDuration</th>\n",
       "      <th>videoPlayCount</th>\n",
       "      <th>videoUrl</th>\n",
       "      <th>videoViewCount</th>\n",
       "    </tr>\n",
       "  </thead>\n",
       "  <tbody>\n",
       "    <tr>\n",
       "      <th>0</th>\n",
       "      <td>Photo shared by ...</td>\n",
       "      <td>For a half centu...</td>\n",
       "      <td>NaN</td>\n",
       "      <td>NaN</td>\n",
       "      <td>NaN</td>\n",
       "      <td>NaN</td>\n",
       "      <td>NaN</td>\n",
       "      <td>NaN</td>\n",
       "      <td>NaN</td>\n",
       "      <td>NaN</td>\n",
       "      <td>...</td>\n",
       "      <td>NaN</td>\n",
       "      <td>NaN</td>\n",
       "      <td>NaN</td>\n",
       "      <td>2024-03-25T18:45...</td>\n",
       "      <td>Image</td>\n",
       "      <td>https://www.inst...</td>\n",
       "      <td>NaN</td>\n",
       "      <td>NaN</td>\n",
       "      <td>NaN</td>\n",
       "      <td>NaN</td>\n",
       "    </tr>\n",
       "    <tr>\n",
       "      <th>1</th>\n",
       "      <td>NaN</td>\n",
       "      <td>Even on a solo h...</td>\n",
       "      <td>NaN</td>\n",
       "      <td>NaN</td>\n",
       "      <td>NaN</td>\n",
       "      <td>NaN</td>\n",
       "      <td>NaN</td>\n",
       "      <td>NaN</td>\n",
       "      <td>NaN</td>\n",
       "      <td>NaN</td>\n",
       "      <td>...</td>\n",
       "      <td>NaN</td>\n",
       "      <td>NaN</td>\n",
       "      <td>NaN</td>\n",
       "      <td>2024-04-05T20:05...</td>\n",
       "      <td>Video</td>\n",
       "      <td>https://www.inst...</td>\n",
       "      <td>7.166</td>\n",
       "      <td>13562.0</td>\n",
       "      <td>https://scontent...</td>\n",
       "      <td>2244.0</td>\n",
       "    </tr>\n",
       "    <tr>\n",
       "      <th>2</th>\n",
       "      <td>NaN</td>\n",
       "      <td>Optimal performa...</td>\n",
       "      <td>Photo by Osprey ...</td>\n",
       "      <td>NaN</td>\n",
       "      <td>0.0</td>\n",
       "      <td>1350.0</td>\n",
       "      <td>1080.0</td>\n",
       "      <td>https://scontent...</td>\n",
       "      <td>NaN</td>\n",
       "      <td>3.337524e+18</td>\n",
       "      <td>...</td>\n",
       "      <td>NaN</td>\n",
       "      <td>NaN</td>\n",
       "      <td>NaN</td>\n",
       "      <td>2024-04-02T18:51...</td>\n",
       "      <td>Sidecar</td>\n",
       "      <td>https://www.inst...</td>\n",
       "      <td>NaN</td>\n",
       "      <td>NaN</td>\n",
       "      <td>NaN</td>\n",
       "      <td>NaN</td>\n",
       "    </tr>\n",
       "    <tr>\n",
       "      <th>3</th>\n",
       "      <td>NaN</td>\n",
       "      <td>However your spr...</td>\n",
       "      <td>NaN</td>\n",
       "      <td>NaN</td>\n",
       "      <td>NaN</td>\n",
       "      <td>NaN</td>\n",
       "      <td>NaN</td>\n",
       "      <td>NaN</td>\n",
       "      <td>NaN</td>\n",
       "      <td>NaN</td>\n",
       "      <td>...</td>\n",
       "      <td>NaN</td>\n",
       "      <td>NaN</td>\n",
       "      <td>NaN</td>\n",
       "      <td>2024-03-28T16:44...</td>\n",
       "      <td>Video</td>\n",
       "      <td>https://www.inst...</td>\n",
       "      <td>9.380</td>\n",
       "      <td>17937.0</td>\n",
       "      <td>https://scontent...</td>\n",
       "      <td>3350.0</td>\n",
       "    </tr>\n",
       "    <tr>\n",
       "      <th>4</th>\n",
       "      <td>NaN</td>\n",
       "      <td>Elevate your tim...</td>\n",
       "      <td>NaN</td>\n",
       "      <td>NaN</td>\n",
       "      <td>NaN</td>\n",
       "      <td>NaN</td>\n",
       "      <td>NaN</td>\n",
       "      <td>NaN</td>\n",
       "      <td>NaN</td>\n",
       "      <td>NaN</td>\n",
       "      <td>...</td>\n",
       "      <td>NaN</td>\n",
       "      <td>NaN</td>\n",
       "      <td>NaN</td>\n",
       "      <td>2024-04-09T21:09...</td>\n",
       "      <td>Video</td>\n",
       "      <td>https://www.inst...</td>\n",
       "      <td>9.937</td>\n",
       "      <td>4834.0</td>\n",
       "      <td>https://instagra...</td>\n",
       "      <td>751.0</td>\n",
       "    </tr>\n",
       "  </tbody>\n",
       "</table>\n",
       "<p>5 rows × 564 columns</p>\n",
       "</div>\n",
       "    <div class=\"colab-df-buttons\">\n",
       "\n",
       "  <div class=\"colab-df-container\">\n",
       "    <button class=\"colab-df-convert\" onclick=\"convertToInteractive('df-34b53924-04b2-4544-abfe-300e888840cf')\"\n",
       "            title=\"Convert this dataframe to an interactive table.\"\n",
       "            style=\"display:none;\">\n",
       "\n",
       "  <svg xmlns=\"http://www.w3.org/2000/svg\" height=\"24px\" viewBox=\"0 -960 960 960\">\n",
       "    <path d=\"M120-120v-720h720v720H120Zm60-500h600v-160H180v160Zm220 220h160v-160H400v160Zm0 220h160v-160H400v160ZM180-400h160v-160H180v160Zm440 0h160v-160H620v160ZM180-180h160v-160H180v160Zm440 0h160v-160H620v160Z\"/>\n",
       "  </svg>\n",
       "    </button>\n",
       "\n",
       "  <style>\n",
       "    .colab-df-container {\n",
       "      display:flex;\n",
       "      gap: 12px;\n",
       "    }\n",
       "\n",
       "    .colab-df-convert {\n",
       "      background-color: #E8F0FE;\n",
       "      border: none;\n",
       "      border-radius: 50%;\n",
       "      cursor: pointer;\n",
       "      display: none;\n",
       "      fill: #1967D2;\n",
       "      height: 32px;\n",
       "      padding: 0 0 0 0;\n",
       "      width: 32px;\n",
       "    }\n",
       "\n",
       "    .colab-df-convert:hover {\n",
       "      background-color: #E2EBFA;\n",
       "      box-shadow: 0px 1px 2px rgba(60, 64, 67, 0.3), 0px 1px 3px 1px rgba(60, 64, 67, 0.15);\n",
       "      fill: #174EA6;\n",
       "    }\n",
       "\n",
       "    .colab-df-buttons div {\n",
       "      margin-bottom: 4px;\n",
       "    }\n",
       "\n",
       "    [theme=dark] .colab-df-convert {\n",
       "      background-color: #3B4455;\n",
       "      fill: #D2E3FC;\n",
       "    }\n",
       "\n",
       "    [theme=dark] .colab-df-convert:hover {\n",
       "      background-color: #434B5C;\n",
       "      box-shadow: 0px 1px 3px 1px rgba(0, 0, 0, 0.15);\n",
       "      filter: drop-shadow(0px 1px 2px rgba(0, 0, 0, 0.3));\n",
       "      fill: #FFFFFF;\n",
       "    }\n",
       "  </style>\n",
       "\n",
       "    <script>\n",
       "      const buttonEl =\n",
       "        document.querySelector('#df-34b53924-04b2-4544-abfe-300e888840cf button.colab-df-convert');\n",
       "      buttonEl.style.display =\n",
       "        google.colab.kernel.accessAllowed ? 'block' : 'none';\n",
       "\n",
       "      async function convertToInteractive(key) {\n",
       "        const element = document.querySelector('#df-34b53924-04b2-4544-abfe-300e888840cf');\n",
       "        const dataTable =\n",
       "          await google.colab.kernel.invokeFunction('convertToInteractive',\n",
       "                                                    [key], {});\n",
       "        if (!dataTable) return;\n",
       "\n",
       "        const docLinkHtml = 'Like what you see? Visit the ' +\n",
       "          '<a target=\"_blank\" href=https://colab.research.google.com/notebooks/data_table.ipynb>data table notebook</a>'\n",
       "          + ' to learn more about interactive tables.';\n",
       "        element.innerHTML = '';\n",
       "        dataTable['output_type'] = 'display_data';\n",
       "        await google.colab.output.renderOutput(dataTable, element);\n",
       "        const docLink = document.createElement('div');\n",
       "        docLink.innerHTML = docLinkHtml;\n",
       "        element.appendChild(docLink);\n",
       "      }\n",
       "    </script>\n",
       "  </div>\n",
       "\n",
       "\n",
       "<div id=\"df-96950467-4184-4f7f-b78c-c5598ab00171\">\n",
       "  <button class=\"colab-df-quickchart\" onclick=\"quickchart('df-96950467-4184-4f7f-b78c-c5598ab00171')\"\n",
       "            title=\"Suggest charts\"\n",
       "            style=\"display:none;\">\n",
       "\n",
       "<svg xmlns=\"http://www.w3.org/2000/svg\" height=\"24px\"viewBox=\"0 0 24 24\"\n",
       "     width=\"24px\">\n",
       "    <g>\n",
       "        <path d=\"M19 3H5c-1.1 0-2 .9-2 2v14c0 1.1.9 2 2 2h14c1.1 0 2-.9 2-2V5c0-1.1-.9-2-2-2zM9 17H7v-7h2v7zm4 0h-2V7h2v10zm4 0h-2v-4h2v4z\"/>\n",
       "    </g>\n",
       "</svg>\n",
       "  </button>\n",
       "\n",
       "<style>\n",
       "  .colab-df-quickchart {\n",
       "      --bg-color: #E8F0FE;\n",
       "      --fill-color: #1967D2;\n",
       "      --hover-bg-color: #E2EBFA;\n",
       "      --hover-fill-color: #174EA6;\n",
       "      --disabled-fill-color: #AAA;\n",
       "      --disabled-bg-color: #DDD;\n",
       "  }\n",
       "\n",
       "  [theme=dark] .colab-df-quickchart {\n",
       "      --bg-color: #3B4455;\n",
       "      --fill-color: #D2E3FC;\n",
       "      --hover-bg-color: #434B5C;\n",
       "      --hover-fill-color: #FFFFFF;\n",
       "      --disabled-bg-color: #3B4455;\n",
       "      --disabled-fill-color: #666;\n",
       "  }\n",
       "\n",
       "  .colab-df-quickchart {\n",
       "    background-color: var(--bg-color);\n",
       "    border: none;\n",
       "    border-radius: 50%;\n",
       "    cursor: pointer;\n",
       "    display: none;\n",
       "    fill: var(--fill-color);\n",
       "    height: 32px;\n",
       "    padding: 0;\n",
       "    width: 32px;\n",
       "  }\n",
       "\n",
       "  .colab-df-quickchart:hover {\n",
       "    background-color: var(--hover-bg-color);\n",
       "    box-shadow: 0 1px 2px rgba(60, 64, 67, 0.3), 0 1px 3px 1px rgba(60, 64, 67, 0.15);\n",
       "    fill: var(--button-hover-fill-color);\n",
       "  }\n",
       "\n",
       "  .colab-df-quickchart-complete:disabled,\n",
       "  .colab-df-quickchart-complete:disabled:hover {\n",
       "    background-color: var(--disabled-bg-color);\n",
       "    fill: var(--disabled-fill-color);\n",
       "    box-shadow: none;\n",
       "  }\n",
       "\n",
       "  .colab-df-spinner {\n",
       "    border: 2px solid var(--fill-color);\n",
       "    border-color: transparent;\n",
       "    border-bottom-color: var(--fill-color);\n",
       "    animation:\n",
       "      spin 1s steps(1) infinite;\n",
       "  }\n",
       "\n",
       "  @keyframes spin {\n",
       "    0% {\n",
       "      border-color: transparent;\n",
       "      border-bottom-color: var(--fill-color);\n",
       "      border-left-color: var(--fill-color);\n",
       "    }\n",
       "    20% {\n",
       "      border-color: transparent;\n",
       "      border-left-color: var(--fill-color);\n",
       "      border-top-color: var(--fill-color);\n",
       "    }\n",
       "    30% {\n",
       "      border-color: transparent;\n",
       "      border-left-color: var(--fill-color);\n",
       "      border-top-color: var(--fill-color);\n",
       "      border-right-color: var(--fill-color);\n",
       "    }\n",
       "    40% {\n",
       "      border-color: transparent;\n",
       "      border-right-color: var(--fill-color);\n",
       "      border-top-color: var(--fill-color);\n",
       "    }\n",
       "    60% {\n",
       "      border-color: transparent;\n",
       "      border-right-color: var(--fill-color);\n",
       "    }\n",
       "    80% {\n",
       "      border-color: transparent;\n",
       "      border-right-color: var(--fill-color);\n",
       "      border-bottom-color: var(--fill-color);\n",
       "    }\n",
       "    90% {\n",
       "      border-color: transparent;\n",
       "      border-bottom-color: var(--fill-color);\n",
       "    }\n",
       "  }\n",
       "</style>\n",
       "\n",
       "  <script>\n",
       "    async function quickchart(key) {\n",
       "      const quickchartButtonEl =\n",
       "        document.querySelector('#' + key + ' button');\n",
       "      quickchartButtonEl.disabled = true;  // To prevent multiple clicks.\n",
       "      quickchartButtonEl.classList.add('colab-df-spinner');\n",
       "      try {\n",
       "        const charts = await google.colab.kernel.invokeFunction(\n",
       "            'suggestCharts', [key], {});\n",
       "      } catch (error) {\n",
       "        console.error('Error during call to suggestCharts:', error);\n",
       "      }\n",
       "      quickchartButtonEl.classList.remove('colab-df-spinner');\n",
       "      quickchartButtonEl.classList.add('colab-df-quickchart-complete');\n",
       "    }\n",
       "    (() => {\n",
       "      let quickchartButtonEl =\n",
       "        document.querySelector('#df-96950467-4184-4f7f-b78c-c5598ab00171 button');\n",
       "      quickchartButtonEl.style.display =\n",
       "        google.colab.kernel.accessAllowed ? 'block' : 'none';\n",
       "    })();\n",
       "  </script>\n",
       "</div>\n",
       "\n",
       "    </div>\n",
       "  </div>\n"
      ],
      "application/vnd.google.colaboratory.intrinsic+json": {
       "type": "dataframe",
       "variable_name": "dataset"
      }
     },
     "metadata": {},
     "execution_count": 6
    }
   ]
  },
  {
   "cell_type": "code",
   "source": [
    "dataset.columns"
   ],
   "metadata": {
    "colab": {
     "base_uri": "https://localhost:8080/"
    },
    "id": "MCTl5X6S-L21",
    "outputId": "a3b8b426-b5a8-488c-9d68-00fa5304942e"
   },
   "execution_count": 7,
   "outputs": [
    {
     "output_type": "execute_result",
     "data": {
      "text/plain": [
       "Index(['alt', 'caption', 'childPosts/0/alt', 'childPosts/0/caption',\n",
       "       'childPosts/0/commentsCount', 'childPosts/0/dimensionsHeight',\n",
       "       'childPosts/0/dimensionsWidth', 'childPosts/0/displayUrl',\n",
       "       'childPosts/0/firstComment', 'childPosts/0/id',\n",
       "       ...\n",
       "       'taggedUsers/12/is_verified', 'taggedUsers/12/profile_pic_url',\n",
       "       'taggedUsers/12/username', 'timestamp', 'type', 'url', 'videoDuration',\n",
       "       'videoPlayCount', 'videoUrl', 'videoViewCount'],\n",
       "      dtype='object', length=564)"
      ]
     },
     "metadata": {},
     "execution_count": 7
    }
   ]
  },
  {
   "cell_type": "code",
   "source": [
    "dataset.shape"
   ],
   "metadata": {
    "colab": {
     "base_uri": "https://localhost:8080/"
    },
    "id": "k9d_3kOG-gl5",
    "outputId": "09a358a4-be08-42cf-ba14-ec471ec6cbff"
   },
   "execution_count": 8,
   "outputs": [
    {
     "output_type": "execute_result",
     "data": {
      "text/plain": [
       "(400, 564)"
      ]
     },
     "metadata": {},
     "execution_count": 8
    }
   ]
  },
  {
   "cell_type": "code",
   "source": [
    "dataset.info()"
   ],
   "metadata": {
    "colab": {
     "base_uri": "https://localhost:8080/"
    },
    "id": "Da0fMQma-jG1",
    "outputId": "96d42ff8-eaf0-44d6-9eb4-59e5f6a88bc8"
   },
   "execution_count": 9,
   "outputs": [
    {
     "output_type": "stream",
     "name": "stdout",
     "text": [
      "<class 'pandas.core.frame.DataFrame'>\n",
      "RangeIndex: 400 entries, 0 to 399\n",
      "Columns: 564 entries, alt to videoViewCount\n",
      "dtypes: bool(1), float64(190), int64(6), object(367)\n",
      "memory usage: 1.7+ MB\n"
     ]
    }
   ]
  },
  {
   "cell_type": "code",
   "source": [
    "dataset.describe()"
   ],
   "metadata": {
    "colab": {
     "base_uri": "https://localhost:8080/",
     "height": 349
    },
    "id": "6_D4LJVP-s0m",
    "outputId": "2f8ce5d1-65a0-4c55-adc2-ab05317d5219"
   },
   "execution_count": 10,
   "outputs": [
    {
     "output_type": "execute_result",
     "data": {
      "text/plain": [
       "       childPosts/0/caption  childPosts/0/commentsCount  \\\n",
       "count                  0.0                 182.0          \n",
       "mean                   NaN                   0.0          \n",
       "std                    NaN                   0.0          \n",
       "min                    NaN                   0.0          \n",
       "25%                    NaN                   0.0          \n",
       "50%                    NaN                   0.0          \n",
       "75%                    NaN                   0.0          \n",
       "max                    NaN                   0.0          \n",
       "\n",
       "       childPosts/0/dimensionsHeight  childPosts/0/dimensionsWidth  \\\n",
       "count           182.000000                     182.000000            \n",
       "mean           1312.752747                    1076.373626            \n",
       "std             127.462656                      34.497705            \n",
       "min             565.000000                     750.000000            \n",
       "25%            1350.000000                    1080.000000            \n",
       "50%            1350.000000                    1080.000000            \n",
       "75%            1350.000000                    1080.000000            \n",
       "max            1350.000000                    1080.000000            \n",
       "\n",
       "       childPosts/0/firstComment  childPosts/0/id  childPosts/0/likesCount  \\\n",
       "count                  0.0           1.820000e+02                  0.0       \n",
       "mean                   NaN           3.160524e+18                  NaN       \n",
       "std                    NaN           1.080852e+17                  NaN       \n",
       "min                    NaN           2.926455e+18                  NaN       \n",
       "25%                    NaN           3.089018e+18                  NaN       \n",
       "50%                    NaN           3.160964e+18                  NaN       \n",
       "75%                    NaN           3.245698e+18                  NaN       \n",
       "max                    NaN           3.341907e+18                  NaN       \n",
       "\n",
       "       childPosts/0/ownerId  childPosts/0/taggedUsers/0/id  \\\n",
       "count                  0.0          9.900000e+01             \n",
       "mean                   NaN          5.992480e+09             \n",
       "std                    NaN          1.465773e+10             \n",
       "min                    NaN          2.828330e+05             \n",
       "25%                    NaN          2.858697e+08             \n",
       "50%                    NaN          2.858697e+08             \n",
       "75%                    NaN          2.129640e+09             \n",
       "max                    NaN          6.018418e+10             \n",
       "\n",
       "       childPosts/0/taggedUsers/1/id  ...  taggedUsers/6/id  taggedUsers/7/id  \\\n",
       "count         4.300000e+01            ...      5.000000e+00      3.000000e+00   \n",
       "mean          6.075850e+09            ...      1.471359e+10      1.462571e+08   \n",
       "std           1.401541e+10            ...      2.437018e+10      1.116491e+08   \n",
       "min           2.457840e+06            ...      2.020146e+08      2.025974e+07   \n",
       "25%           3.910939e+07            ...      2.152425e+08      1.029360e+08   \n",
       "50%           4.657344e+08            ...      5.440235e+09      1.856122e+08   \n",
       "75%           4.041973e+09            ...      1.002210e+10      2.092558e+08   \n",
       "max           5.550446e+10            ...      5.768834e+10      2.328995e+08   \n",
       "\n",
       "       taggedUsers/8/id  taggedUsers/9/id  taggedUsers/10/id  \\\n",
       "count      3.000000e+00      2.000000e+00       2.000000e+00   \n",
       "mean       2.475587e+08      4.373427e+09       2.420868e+10   \n",
       "std        2.441470e+08      5.857247e+09       3.420160e+10   \n",
       "min        2.260064e+06      2.317279e+08       2.449720e+07   \n",
       "25%        1.260693e+08      2.302577e+09       1.211659e+10   \n",
       "50%        2.498784e+08      4.373427e+09       2.420868e+10   \n",
       "75%        3.702080e+08      6.444276e+09       3.630078e+10   \n",
       "max        4.905375e+08      8.515125e+09       4.839287e+10   \n",
       "\n",
       "       taggedUsers/11/id  taggedUsers/12/id  videoDuration  videoPlayCount  \\\n",
       "count       2.000000e+00       1.000000e+00     104.000000    1.040000e+02   \n",
       "mean        2.375583e+10       4.884585e+10      23.063413    7.213009e+04   \n",
       "std         3.046588e+10                NaN      20.340512    1.550379e+05   \n",
       "min         2.213204e+09       4.884585e+10       3.333000    4.834000e+03   \n",
       "25%         1.298452e+10       4.884585e+10      10.258000    2.259475e+04   \n",
       "50%         2.375583e+10       4.884585e+10      15.483500    3.338050e+04   \n",
       "75%         3.452715e+10       4.884585e+10      27.275000    6.391675e+04   \n",
       "max         4.529846e+10       4.884585e+10     108.066000    1.206347e+06   \n",
       "\n",
       "       videoViewCount  \n",
       "count      104.000000  \n",
       "mean     28677.576923  \n",
       "std      66950.905562  \n",
       "min        751.000000  \n",
       "25%       5662.750000  \n",
       "50%       9842.000000  \n",
       "75%      26599.000000  \n",
       "max     441536.000000  \n",
       "\n",
       "[8 rows x 196 columns]"
      ],
      "text/html": [
       "\n",
       "  <div id=\"df-5a328f95-9493-4bdc-9c75-18696722bb26\" class=\"colab-df-container\">\n",
       "    <div>\n",
       "<style scoped>\n",
       "    .dataframe tbody tr th:only-of-type {\n",
       "        vertical-align: middle;\n",
       "    }\n",
       "\n",
       "    .dataframe tbody tr th {\n",
       "        vertical-align: top;\n",
       "    }\n",
       "\n",
       "    .dataframe thead th {\n",
       "        text-align: right;\n",
       "    }\n",
       "</style>\n",
       "<table border=\"1\" class=\"dataframe\">\n",
       "  <thead>\n",
       "    <tr style=\"text-align: right;\">\n",
       "      <th></th>\n",
       "      <th>childPosts/0/caption</th>\n",
       "      <th>childPosts/0/commentsCount</th>\n",
       "      <th>childPosts/0/dimensionsHeight</th>\n",
       "      <th>childPosts/0/dimensionsWidth</th>\n",
       "      <th>childPosts/0/firstComment</th>\n",
       "      <th>childPosts/0/id</th>\n",
       "      <th>childPosts/0/likesCount</th>\n",
       "      <th>childPosts/0/ownerId</th>\n",
       "      <th>childPosts/0/taggedUsers/0/id</th>\n",
       "      <th>childPosts/0/taggedUsers/1/id</th>\n",
       "      <th>...</th>\n",
       "      <th>taggedUsers/6/id</th>\n",
       "      <th>taggedUsers/7/id</th>\n",
       "      <th>taggedUsers/8/id</th>\n",
       "      <th>taggedUsers/9/id</th>\n",
       "      <th>taggedUsers/10/id</th>\n",
       "      <th>taggedUsers/11/id</th>\n",
       "      <th>taggedUsers/12/id</th>\n",
       "      <th>videoDuration</th>\n",
       "      <th>videoPlayCount</th>\n",
       "      <th>videoViewCount</th>\n",
       "    </tr>\n",
       "  </thead>\n",
       "  <tbody>\n",
       "    <tr>\n",
       "      <th>count</th>\n",
       "      <td>0.0</td>\n",
       "      <td>182.0</td>\n",
       "      <td>182.000000</td>\n",
       "      <td>182.000000</td>\n",
       "      <td>0.0</td>\n",
       "      <td>1.820000e+02</td>\n",
       "      <td>0.0</td>\n",
       "      <td>0.0</td>\n",
       "      <td>9.900000e+01</td>\n",
       "      <td>4.300000e+01</td>\n",
       "      <td>...</td>\n",
       "      <td>5.000000e+00</td>\n",
       "      <td>3.000000e+00</td>\n",
       "      <td>3.000000e+00</td>\n",
       "      <td>2.000000e+00</td>\n",
       "      <td>2.000000e+00</td>\n",
       "      <td>2.000000e+00</td>\n",
       "      <td>1.000000e+00</td>\n",
       "      <td>104.000000</td>\n",
       "      <td>1.040000e+02</td>\n",
       "      <td>104.000000</td>\n",
       "    </tr>\n",
       "    <tr>\n",
       "      <th>mean</th>\n",
       "      <td>NaN</td>\n",
       "      <td>0.0</td>\n",
       "      <td>1312.752747</td>\n",
       "      <td>1076.373626</td>\n",
       "      <td>NaN</td>\n",
       "      <td>3.160524e+18</td>\n",
       "      <td>NaN</td>\n",
       "      <td>NaN</td>\n",
       "      <td>5.992480e+09</td>\n",
       "      <td>6.075850e+09</td>\n",
       "      <td>...</td>\n",
       "      <td>1.471359e+10</td>\n",
       "      <td>1.462571e+08</td>\n",
       "      <td>2.475587e+08</td>\n",
       "      <td>4.373427e+09</td>\n",
       "      <td>2.420868e+10</td>\n",
       "      <td>2.375583e+10</td>\n",
       "      <td>4.884585e+10</td>\n",
       "      <td>23.063413</td>\n",
       "      <td>7.213009e+04</td>\n",
       "      <td>28677.576923</td>\n",
       "    </tr>\n",
       "    <tr>\n",
       "      <th>std</th>\n",
       "      <td>NaN</td>\n",
       "      <td>0.0</td>\n",
       "      <td>127.462656</td>\n",
       "      <td>34.497705</td>\n",
       "      <td>NaN</td>\n",
       "      <td>1.080852e+17</td>\n",
       "      <td>NaN</td>\n",
       "      <td>NaN</td>\n",
       "      <td>1.465773e+10</td>\n",
       "      <td>1.401541e+10</td>\n",
       "      <td>...</td>\n",
       "      <td>2.437018e+10</td>\n",
       "      <td>1.116491e+08</td>\n",
       "      <td>2.441470e+08</td>\n",
       "      <td>5.857247e+09</td>\n",
       "      <td>3.420160e+10</td>\n",
       "      <td>3.046588e+10</td>\n",
       "      <td>NaN</td>\n",
       "      <td>20.340512</td>\n",
       "      <td>1.550379e+05</td>\n",
       "      <td>66950.905562</td>\n",
       "    </tr>\n",
       "    <tr>\n",
       "      <th>min</th>\n",
       "      <td>NaN</td>\n",
       "      <td>0.0</td>\n",
       "      <td>565.000000</td>\n",
       "      <td>750.000000</td>\n",
       "      <td>NaN</td>\n",
       "      <td>2.926455e+18</td>\n",
       "      <td>NaN</td>\n",
       "      <td>NaN</td>\n",
       "      <td>2.828330e+05</td>\n",
       "      <td>2.457840e+06</td>\n",
       "      <td>...</td>\n",
       "      <td>2.020146e+08</td>\n",
       "      <td>2.025974e+07</td>\n",
       "      <td>2.260064e+06</td>\n",
       "      <td>2.317279e+08</td>\n",
       "      <td>2.449720e+07</td>\n",
       "      <td>2.213204e+09</td>\n",
       "      <td>4.884585e+10</td>\n",
       "      <td>3.333000</td>\n",
       "      <td>4.834000e+03</td>\n",
       "      <td>751.000000</td>\n",
       "    </tr>\n",
       "    <tr>\n",
       "      <th>25%</th>\n",
       "      <td>NaN</td>\n",
       "      <td>0.0</td>\n",
       "      <td>1350.000000</td>\n",
       "      <td>1080.000000</td>\n",
       "      <td>NaN</td>\n",
       "      <td>3.089018e+18</td>\n",
       "      <td>NaN</td>\n",
       "      <td>NaN</td>\n",
       "      <td>2.858697e+08</td>\n",
       "      <td>3.910939e+07</td>\n",
       "      <td>...</td>\n",
       "      <td>2.152425e+08</td>\n",
       "      <td>1.029360e+08</td>\n",
       "      <td>1.260693e+08</td>\n",
       "      <td>2.302577e+09</td>\n",
       "      <td>1.211659e+10</td>\n",
       "      <td>1.298452e+10</td>\n",
       "      <td>4.884585e+10</td>\n",
       "      <td>10.258000</td>\n",
       "      <td>2.259475e+04</td>\n",
       "      <td>5662.750000</td>\n",
       "    </tr>\n",
       "    <tr>\n",
       "      <th>50%</th>\n",
       "      <td>NaN</td>\n",
       "      <td>0.0</td>\n",
       "      <td>1350.000000</td>\n",
       "      <td>1080.000000</td>\n",
       "      <td>NaN</td>\n",
       "      <td>3.160964e+18</td>\n",
       "      <td>NaN</td>\n",
       "      <td>NaN</td>\n",
       "      <td>2.858697e+08</td>\n",
       "      <td>4.657344e+08</td>\n",
       "      <td>...</td>\n",
       "      <td>5.440235e+09</td>\n",
       "      <td>1.856122e+08</td>\n",
       "      <td>2.498784e+08</td>\n",
       "      <td>4.373427e+09</td>\n",
       "      <td>2.420868e+10</td>\n",
       "      <td>2.375583e+10</td>\n",
       "      <td>4.884585e+10</td>\n",
       "      <td>15.483500</td>\n",
       "      <td>3.338050e+04</td>\n",
       "      <td>9842.000000</td>\n",
       "    </tr>\n",
       "    <tr>\n",
       "      <th>75%</th>\n",
       "      <td>NaN</td>\n",
       "      <td>0.0</td>\n",
       "      <td>1350.000000</td>\n",
       "      <td>1080.000000</td>\n",
       "      <td>NaN</td>\n",
       "      <td>3.245698e+18</td>\n",
       "      <td>NaN</td>\n",
       "      <td>NaN</td>\n",
       "      <td>2.129640e+09</td>\n",
       "      <td>4.041973e+09</td>\n",
       "      <td>...</td>\n",
       "      <td>1.002210e+10</td>\n",
       "      <td>2.092558e+08</td>\n",
       "      <td>3.702080e+08</td>\n",
       "      <td>6.444276e+09</td>\n",
       "      <td>3.630078e+10</td>\n",
       "      <td>3.452715e+10</td>\n",
       "      <td>4.884585e+10</td>\n",
       "      <td>27.275000</td>\n",
       "      <td>6.391675e+04</td>\n",
       "      <td>26599.000000</td>\n",
       "    </tr>\n",
       "    <tr>\n",
       "      <th>max</th>\n",
       "      <td>NaN</td>\n",
       "      <td>0.0</td>\n",
       "      <td>1350.000000</td>\n",
       "      <td>1080.000000</td>\n",
       "      <td>NaN</td>\n",
       "      <td>3.341907e+18</td>\n",
       "      <td>NaN</td>\n",
       "      <td>NaN</td>\n",
       "      <td>6.018418e+10</td>\n",
       "      <td>5.550446e+10</td>\n",
       "      <td>...</td>\n",
       "      <td>5.768834e+10</td>\n",
       "      <td>2.328995e+08</td>\n",
       "      <td>4.905375e+08</td>\n",
       "      <td>8.515125e+09</td>\n",
       "      <td>4.839287e+10</td>\n",
       "      <td>4.529846e+10</td>\n",
       "      <td>4.884585e+10</td>\n",
       "      <td>108.066000</td>\n",
       "      <td>1.206347e+06</td>\n",
       "      <td>441536.000000</td>\n",
       "    </tr>\n",
       "  </tbody>\n",
       "</table>\n",
       "<p>8 rows × 196 columns</p>\n",
       "</div>\n",
       "    <div class=\"colab-df-buttons\">\n",
       "\n",
       "  <div class=\"colab-df-container\">\n",
       "    <button class=\"colab-df-convert\" onclick=\"convertToInteractive('df-5a328f95-9493-4bdc-9c75-18696722bb26')\"\n",
       "            title=\"Convert this dataframe to an interactive table.\"\n",
       "            style=\"display:none;\">\n",
       "\n",
       "  <svg xmlns=\"http://www.w3.org/2000/svg\" height=\"24px\" viewBox=\"0 -960 960 960\">\n",
       "    <path d=\"M120-120v-720h720v720H120Zm60-500h600v-160H180v160Zm220 220h160v-160H400v160Zm0 220h160v-160H400v160ZM180-400h160v-160H180v160Zm440 0h160v-160H620v160ZM180-180h160v-160H180v160Zm440 0h160v-160H620v160Z\"/>\n",
       "  </svg>\n",
       "    </button>\n",
       "\n",
       "  <style>\n",
       "    .colab-df-container {\n",
       "      display:flex;\n",
       "      gap: 12px;\n",
       "    }\n",
       "\n",
       "    .colab-df-convert {\n",
       "      background-color: #E8F0FE;\n",
       "      border: none;\n",
       "      border-radius: 50%;\n",
       "      cursor: pointer;\n",
       "      display: none;\n",
       "      fill: #1967D2;\n",
       "      height: 32px;\n",
       "      padding: 0 0 0 0;\n",
       "      width: 32px;\n",
       "    }\n",
       "\n",
       "    .colab-df-convert:hover {\n",
       "      background-color: #E2EBFA;\n",
       "      box-shadow: 0px 1px 2px rgba(60, 64, 67, 0.3), 0px 1px 3px 1px rgba(60, 64, 67, 0.15);\n",
       "      fill: #174EA6;\n",
       "    }\n",
       "\n",
       "    .colab-df-buttons div {\n",
       "      margin-bottom: 4px;\n",
       "    }\n",
       "\n",
       "    [theme=dark] .colab-df-convert {\n",
       "      background-color: #3B4455;\n",
       "      fill: #D2E3FC;\n",
       "    }\n",
       "\n",
       "    [theme=dark] .colab-df-convert:hover {\n",
       "      background-color: #434B5C;\n",
       "      box-shadow: 0px 1px 3px 1px rgba(0, 0, 0, 0.15);\n",
       "      filter: drop-shadow(0px 1px 2px rgba(0, 0, 0, 0.3));\n",
       "      fill: #FFFFFF;\n",
       "    }\n",
       "  </style>\n",
       "\n",
       "    <script>\n",
       "      const buttonEl =\n",
       "        document.querySelector('#df-5a328f95-9493-4bdc-9c75-18696722bb26 button.colab-df-convert');\n",
       "      buttonEl.style.display =\n",
       "        google.colab.kernel.accessAllowed ? 'block' : 'none';\n",
       "\n",
       "      async function convertToInteractive(key) {\n",
       "        const element = document.querySelector('#df-5a328f95-9493-4bdc-9c75-18696722bb26');\n",
       "        const dataTable =\n",
       "          await google.colab.kernel.invokeFunction('convertToInteractive',\n",
       "                                                    [key], {});\n",
       "        if (!dataTable) return;\n",
       "\n",
       "        const docLinkHtml = 'Like what you see? Visit the ' +\n",
       "          '<a target=\"_blank\" href=https://colab.research.google.com/notebooks/data_table.ipynb>data table notebook</a>'\n",
       "          + ' to learn more about interactive tables.';\n",
       "        element.innerHTML = '';\n",
       "        dataTable['output_type'] = 'display_data';\n",
       "        await google.colab.output.renderOutput(dataTable, element);\n",
       "        const docLink = document.createElement('div');\n",
       "        docLink.innerHTML = docLinkHtml;\n",
       "        element.appendChild(docLink);\n",
       "      }\n",
       "    </script>\n",
       "  </div>\n",
       "\n",
       "\n",
       "<div id=\"df-4fecc223-00a6-42fd-abe6-fca0a8788c79\">\n",
       "  <button class=\"colab-df-quickchart\" onclick=\"quickchart('df-4fecc223-00a6-42fd-abe6-fca0a8788c79')\"\n",
       "            title=\"Suggest charts\"\n",
       "            style=\"display:none;\">\n",
       "\n",
       "<svg xmlns=\"http://www.w3.org/2000/svg\" height=\"24px\"viewBox=\"0 0 24 24\"\n",
       "     width=\"24px\">\n",
       "    <g>\n",
       "        <path d=\"M19 3H5c-1.1 0-2 .9-2 2v14c0 1.1.9 2 2 2h14c1.1 0 2-.9 2-2V5c0-1.1-.9-2-2-2zM9 17H7v-7h2v7zm4 0h-2V7h2v10zm4 0h-2v-4h2v4z\"/>\n",
       "    </g>\n",
       "</svg>\n",
       "  </button>\n",
       "\n",
       "<style>\n",
       "  .colab-df-quickchart {\n",
       "      --bg-color: #E8F0FE;\n",
       "      --fill-color: #1967D2;\n",
       "      --hover-bg-color: #E2EBFA;\n",
       "      --hover-fill-color: #174EA6;\n",
       "      --disabled-fill-color: #AAA;\n",
       "      --disabled-bg-color: #DDD;\n",
       "  }\n",
       "\n",
       "  [theme=dark] .colab-df-quickchart {\n",
       "      --bg-color: #3B4455;\n",
       "      --fill-color: #D2E3FC;\n",
       "      --hover-bg-color: #434B5C;\n",
       "      --hover-fill-color: #FFFFFF;\n",
       "      --disabled-bg-color: #3B4455;\n",
       "      --disabled-fill-color: #666;\n",
       "  }\n",
       "\n",
       "  .colab-df-quickchart {\n",
       "    background-color: var(--bg-color);\n",
       "    border: none;\n",
       "    border-radius: 50%;\n",
       "    cursor: pointer;\n",
       "    display: none;\n",
       "    fill: var(--fill-color);\n",
       "    height: 32px;\n",
       "    padding: 0;\n",
       "    width: 32px;\n",
       "  }\n",
       "\n",
       "  .colab-df-quickchart:hover {\n",
       "    background-color: var(--hover-bg-color);\n",
       "    box-shadow: 0 1px 2px rgba(60, 64, 67, 0.3), 0 1px 3px 1px rgba(60, 64, 67, 0.15);\n",
       "    fill: var(--button-hover-fill-color);\n",
       "  }\n",
       "\n",
       "  .colab-df-quickchart-complete:disabled,\n",
       "  .colab-df-quickchart-complete:disabled:hover {\n",
       "    background-color: var(--disabled-bg-color);\n",
       "    fill: var(--disabled-fill-color);\n",
       "    box-shadow: none;\n",
       "  }\n",
       "\n",
       "  .colab-df-spinner {\n",
       "    border: 2px solid var(--fill-color);\n",
       "    border-color: transparent;\n",
       "    border-bottom-color: var(--fill-color);\n",
       "    animation:\n",
       "      spin 1s steps(1) infinite;\n",
       "  }\n",
       "\n",
       "  @keyframes spin {\n",
       "    0% {\n",
       "      border-color: transparent;\n",
       "      border-bottom-color: var(--fill-color);\n",
       "      border-left-color: var(--fill-color);\n",
       "    }\n",
       "    20% {\n",
       "      border-color: transparent;\n",
       "      border-left-color: var(--fill-color);\n",
       "      border-top-color: var(--fill-color);\n",
       "    }\n",
       "    30% {\n",
       "      border-color: transparent;\n",
       "      border-left-color: var(--fill-color);\n",
       "      border-top-color: var(--fill-color);\n",
       "      border-right-color: var(--fill-color);\n",
       "    }\n",
       "    40% {\n",
       "      border-color: transparent;\n",
       "      border-right-color: var(--fill-color);\n",
       "      border-top-color: var(--fill-color);\n",
       "    }\n",
       "    60% {\n",
       "      border-color: transparent;\n",
       "      border-right-color: var(--fill-color);\n",
       "    }\n",
       "    80% {\n",
       "      border-color: transparent;\n",
       "      border-right-color: var(--fill-color);\n",
       "      border-bottom-color: var(--fill-color);\n",
       "    }\n",
       "    90% {\n",
       "      border-color: transparent;\n",
       "      border-bottom-color: var(--fill-color);\n",
       "    }\n",
       "  }\n",
       "</style>\n",
       "\n",
       "  <script>\n",
       "    async function quickchart(key) {\n",
       "      const quickchartButtonEl =\n",
       "        document.querySelector('#' + key + ' button');\n",
       "      quickchartButtonEl.disabled = true;  // To prevent multiple clicks.\n",
       "      quickchartButtonEl.classList.add('colab-df-spinner');\n",
       "      try {\n",
       "        const charts = await google.colab.kernel.invokeFunction(\n",
       "            'suggestCharts', [key], {});\n",
       "      } catch (error) {\n",
       "        console.error('Error during call to suggestCharts:', error);\n",
       "      }\n",
       "      quickchartButtonEl.classList.remove('colab-df-spinner');\n",
       "      quickchartButtonEl.classList.add('colab-df-quickchart-complete');\n",
       "    }\n",
       "    (() => {\n",
       "      let quickchartButtonEl =\n",
       "        document.querySelector('#df-4fecc223-00a6-42fd-abe6-fca0a8788c79 button');\n",
       "      quickchartButtonEl.style.display =\n",
       "        google.colab.kernel.accessAllowed ? 'block' : 'none';\n",
       "    })();\n",
       "  </script>\n",
       "</div>\n",
       "\n",
       "    </div>\n",
       "  </div>\n"
      ],
      "application/vnd.google.colaboratory.intrinsic+json": {
       "type": "dataframe"
      }
     },
     "metadata": {},
     "execution_count": 10
    }
   ]
  },
  {
   "cell_type": "markdown",
   "source": [
    "We can see lots of columns and NaN values we are not interested in. Let us select only ownerUsername (ospreypacks),the caption under the post and number of likesCount under the post."
   ],
   "metadata": {
    "id": "jpf5q6wo_GL_"
   }
  },
  {
   "cell_type": "markdown",
   "source": [
    "### Columns of interest"
   ],
   "metadata": {
    "id": "Bd_gm7GCE8dK"
   }
  },
  {
   "cell_type": "code",
   "source": [
    "partial_dataset = dataset.loc[:, ['caption', 'likesCount', 'ownerUsername']]"
   ],
   "metadata": {
    "id": "_cuNRi1sAQSr"
   },
   "execution_count": 11,
   "outputs": []
  },
  {
   "cell_type": "code",
   "source": [
    "pd.set_option('display.max_colwidth', None)"
   ],
   "metadata": {
    "id": "aymHNi3OHxJN"
   },
   "execution_count": 12,
   "outputs": []
  },
  {
   "cell_type": "code",
   "source": [
    "partial_dataset.head()"
   ],
   "metadata": {
    "colab": {
     "base_uri": "https://localhost:8080/",
     "height": 327
    },
    "id": "hwIbzahMAgYn",
    "outputId": "de7cad13-67a8-4187-e977-05af1523bd50"
   },
   "execution_count": 13,
   "outputs": [
    {
     "output_type": "execute_result",
     "data": {
      "text/plain": [
       "                                                                                                                                                                                                                                                                                                                                                                                                                                                                                                                                                                                                                                                                                                                    caption  \\\n",
       "0  For a half century, @OspreyPacks has been driven by a passion for exploration, and the belief that adventure should be available to all, whether exploring deep into the backcountry or nearby trails and parks. They believe that increased participation comes with a responsibility, and as recreation landscapes see increased use, the pack brand desires to increase awareness in conservation, land management and education.\\n\\nThis is why, after nearly 20 years as a member, Osprey is becoming our newest Pinnacle Member with a $100,000 commitment to TCA! The incredible contribution is in celebration of its 50th Anniversary and commitment to conservation.\\n\\nPlease help us thank and welcome them!   \n",
       "1                                                                                                                                                                                                                                                                                                                                                                                                                                                                                                                                                                                                                      Even on a solo hike, you need the perfect partner - pack it all with the Tempest 20.\\n\\n#OspreyPacks   \n",
       "2                                                                                                                                                                                                                                                                                                                                                                                                                                                      Optimal performance for bigger bodies. With new additions for mountain bikers, runners and backpackers, our Extended Fit collection is more capable than ever. \\n\\n#OspreyPacks | Featuring the all-new Rook/Renn 65 EF, Raptor/Raven 14 EF and Duro/Dyna LT Belt EF   \n",
       "3                                                                                                                                                                                                                                                                                                                                                                                                                                                                                                                                            However your spring is looking, keep your day hikes Lite. \\n\\nThe Sportlite 20 – for the fast and light crowd who know what they’re getting into and only pack what they need.   \n",
       "4                                                                                                                                                                                                                                                                                                                                                                                                                                                                                                                                                                                       Elevate your time on the trails – lightweight and perfect for shorter day hikes, the Stratos 24 spares no features.\\n\\n#OspreyPacks   \n",
       "\n",
       "   likesCount         ownerUsername  \n",
       "0         220  conservationalliance  \n",
       "1         380           ospreypacks  \n",
       "2        1735           ospreypacks  \n",
       "3         548           ospreypacks  \n",
       "4         136           ospreypacks  "
      ],
      "text/html": [
       "\n",
       "  <div id=\"df-383406aa-8088-4a81-a97f-1059dcc34e75\" class=\"colab-df-container\">\n",
       "    <div>\n",
       "<style scoped>\n",
       "    .dataframe tbody tr th:only-of-type {\n",
       "        vertical-align: middle;\n",
       "    }\n",
       "\n",
       "    .dataframe tbody tr th {\n",
       "        vertical-align: top;\n",
       "    }\n",
       "\n",
       "    .dataframe thead th {\n",
       "        text-align: right;\n",
       "    }\n",
       "</style>\n",
       "<table border=\"1\" class=\"dataframe\">\n",
       "  <thead>\n",
       "    <tr style=\"text-align: right;\">\n",
       "      <th></th>\n",
       "      <th>caption</th>\n",
       "      <th>likesCount</th>\n",
       "      <th>ownerUsername</th>\n",
       "    </tr>\n",
       "  </thead>\n",
       "  <tbody>\n",
       "    <tr>\n",
       "      <th>0</th>\n",
       "      <td>For a half century, @OspreyPacks has been driven by a passion for exploration, and the belief that adventure should be available to all, whether exploring deep into the backcountry or nearby trails and parks. They believe that increased participation comes with a responsibility, and as recreation landscapes see increased use, the pack brand desires to increase awareness in conservation, land management and education.\\n\\nThis is why, after nearly 20 years as a member, Osprey is becoming our newest Pinnacle Member with a $100,000 commitment to TCA! The incredible contribution is in celebration of its 50th Anniversary and commitment to conservation.\\n\\nPlease help us thank and welcome them!</td>\n",
       "      <td>220</td>\n",
       "      <td>conservationalliance</td>\n",
       "    </tr>\n",
       "    <tr>\n",
       "      <th>1</th>\n",
       "      <td>Even on a solo hike, you need the perfect partner - pack it all with the Tempest 20.\\n\\n#OspreyPacks</td>\n",
       "      <td>380</td>\n",
       "      <td>ospreypacks</td>\n",
       "    </tr>\n",
       "    <tr>\n",
       "      <th>2</th>\n",
       "      <td>Optimal performance for bigger bodies. With new additions for mountain bikers, runners and backpackers, our Extended Fit collection is more capable than ever. \\n\\n#OspreyPacks | Featuring the all-new Rook/Renn 65 EF, Raptor/Raven 14 EF and Duro/Dyna LT Belt EF</td>\n",
       "      <td>1735</td>\n",
       "      <td>ospreypacks</td>\n",
       "    </tr>\n",
       "    <tr>\n",
       "      <th>3</th>\n",
       "      <td>However your spring is looking, keep your day hikes Lite. \\n\\nThe Sportlite 20 – for the fast and light crowd who know what they’re getting into and only pack what they need.</td>\n",
       "      <td>548</td>\n",
       "      <td>ospreypacks</td>\n",
       "    </tr>\n",
       "    <tr>\n",
       "      <th>4</th>\n",
       "      <td>Elevate your time on the trails – lightweight and perfect for shorter day hikes, the Stratos 24 spares no features.\\n\\n#OspreyPacks</td>\n",
       "      <td>136</td>\n",
       "      <td>ospreypacks</td>\n",
       "    </tr>\n",
       "  </tbody>\n",
       "</table>\n",
       "</div>\n",
       "    <div class=\"colab-df-buttons\">\n",
       "\n",
       "  <div class=\"colab-df-container\">\n",
       "    <button class=\"colab-df-convert\" onclick=\"convertToInteractive('df-383406aa-8088-4a81-a97f-1059dcc34e75')\"\n",
       "            title=\"Convert this dataframe to an interactive table.\"\n",
       "            style=\"display:none;\">\n",
       "\n",
       "  <svg xmlns=\"http://www.w3.org/2000/svg\" height=\"24px\" viewBox=\"0 -960 960 960\">\n",
       "    <path d=\"M120-120v-720h720v720H120Zm60-500h600v-160H180v160Zm220 220h160v-160H400v160Zm0 220h160v-160H400v160ZM180-400h160v-160H180v160Zm440 0h160v-160H620v160ZM180-180h160v-160H180v160Zm440 0h160v-160H620v160Z\"/>\n",
       "  </svg>\n",
       "    </button>\n",
       "\n",
       "  <style>\n",
       "    .colab-df-container {\n",
       "      display:flex;\n",
       "      gap: 12px;\n",
       "    }\n",
       "\n",
       "    .colab-df-convert {\n",
       "      background-color: #E8F0FE;\n",
       "      border: none;\n",
       "      border-radius: 50%;\n",
       "      cursor: pointer;\n",
       "      display: none;\n",
       "      fill: #1967D2;\n",
       "      height: 32px;\n",
       "      padding: 0 0 0 0;\n",
       "      width: 32px;\n",
       "    }\n",
       "\n",
       "    .colab-df-convert:hover {\n",
       "      background-color: #E2EBFA;\n",
       "      box-shadow: 0px 1px 2px rgba(60, 64, 67, 0.3), 0px 1px 3px 1px rgba(60, 64, 67, 0.15);\n",
       "      fill: #174EA6;\n",
       "    }\n",
       "\n",
       "    .colab-df-buttons div {\n",
       "      margin-bottom: 4px;\n",
       "    }\n",
       "\n",
       "    [theme=dark] .colab-df-convert {\n",
       "      background-color: #3B4455;\n",
       "      fill: #D2E3FC;\n",
       "    }\n",
       "\n",
       "    [theme=dark] .colab-df-convert:hover {\n",
       "      background-color: #434B5C;\n",
       "      box-shadow: 0px 1px 3px 1px rgba(0, 0, 0, 0.15);\n",
       "      filter: drop-shadow(0px 1px 2px rgba(0, 0, 0, 0.3));\n",
       "      fill: #FFFFFF;\n",
       "    }\n",
       "  </style>\n",
       "\n",
       "    <script>\n",
       "      const buttonEl =\n",
       "        document.querySelector('#df-383406aa-8088-4a81-a97f-1059dcc34e75 button.colab-df-convert');\n",
       "      buttonEl.style.display =\n",
       "        google.colab.kernel.accessAllowed ? 'block' : 'none';\n",
       "\n",
       "      async function convertToInteractive(key) {\n",
       "        const element = document.querySelector('#df-383406aa-8088-4a81-a97f-1059dcc34e75');\n",
       "        const dataTable =\n",
       "          await google.colab.kernel.invokeFunction('convertToInteractive',\n",
       "                                                    [key], {});\n",
       "        if (!dataTable) return;\n",
       "\n",
       "        const docLinkHtml = 'Like what you see? Visit the ' +\n",
       "          '<a target=\"_blank\" href=https://colab.research.google.com/notebooks/data_table.ipynb>data table notebook</a>'\n",
       "          + ' to learn more about interactive tables.';\n",
       "        element.innerHTML = '';\n",
       "        dataTable['output_type'] = 'display_data';\n",
       "        await google.colab.output.renderOutput(dataTable, element);\n",
       "        const docLink = document.createElement('div');\n",
       "        docLink.innerHTML = docLinkHtml;\n",
       "        element.appendChild(docLink);\n",
       "      }\n",
       "    </script>\n",
       "  </div>\n",
       "\n",
       "\n",
       "<div id=\"df-5f025498-70ee-443f-a153-60d52906bb9f\">\n",
       "  <button class=\"colab-df-quickchart\" onclick=\"quickchart('df-5f025498-70ee-443f-a153-60d52906bb9f')\"\n",
       "            title=\"Suggest charts\"\n",
       "            style=\"display:none;\">\n",
       "\n",
       "<svg xmlns=\"http://www.w3.org/2000/svg\" height=\"24px\"viewBox=\"0 0 24 24\"\n",
       "     width=\"24px\">\n",
       "    <g>\n",
       "        <path d=\"M19 3H5c-1.1 0-2 .9-2 2v14c0 1.1.9 2 2 2h14c1.1 0 2-.9 2-2V5c0-1.1-.9-2-2-2zM9 17H7v-7h2v7zm4 0h-2V7h2v10zm4 0h-2v-4h2v4z\"/>\n",
       "    </g>\n",
       "</svg>\n",
       "  </button>\n",
       "\n",
       "<style>\n",
       "  .colab-df-quickchart {\n",
       "      --bg-color: #E8F0FE;\n",
       "      --fill-color: #1967D2;\n",
       "      --hover-bg-color: #E2EBFA;\n",
       "      --hover-fill-color: #174EA6;\n",
       "      --disabled-fill-color: #AAA;\n",
       "      --disabled-bg-color: #DDD;\n",
       "  }\n",
       "\n",
       "  [theme=dark] .colab-df-quickchart {\n",
       "      --bg-color: #3B4455;\n",
       "      --fill-color: #D2E3FC;\n",
       "      --hover-bg-color: #434B5C;\n",
       "      --hover-fill-color: #FFFFFF;\n",
       "      --disabled-bg-color: #3B4455;\n",
       "      --disabled-fill-color: #666;\n",
       "  }\n",
       "\n",
       "  .colab-df-quickchart {\n",
       "    background-color: var(--bg-color);\n",
       "    border: none;\n",
       "    border-radius: 50%;\n",
       "    cursor: pointer;\n",
       "    display: none;\n",
       "    fill: var(--fill-color);\n",
       "    height: 32px;\n",
       "    padding: 0;\n",
       "    width: 32px;\n",
       "  }\n",
       "\n",
       "  .colab-df-quickchart:hover {\n",
       "    background-color: var(--hover-bg-color);\n",
       "    box-shadow: 0 1px 2px rgba(60, 64, 67, 0.3), 0 1px 3px 1px rgba(60, 64, 67, 0.15);\n",
       "    fill: var(--button-hover-fill-color);\n",
       "  }\n",
       "\n",
       "  .colab-df-quickchart-complete:disabled,\n",
       "  .colab-df-quickchart-complete:disabled:hover {\n",
       "    background-color: var(--disabled-bg-color);\n",
       "    fill: var(--disabled-fill-color);\n",
       "    box-shadow: none;\n",
       "  }\n",
       "\n",
       "  .colab-df-spinner {\n",
       "    border: 2px solid var(--fill-color);\n",
       "    border-color: transparent;\n",
       "    border-bottom-color: var(--fill-color);\n",
       "    animation:\n",
       "      spin 1s steps(1) infinite;\n",
       "  }\n",
       "\n",
       "  @keyframes spin {\n",
       "    0% {\n",
       "      border-color: transparent;\n",
       "      border-bottom-color: var(--fill-color);\n",
       "      border-left-color: var(--fill-color);\n",
       "    }\n",
       "    20% {\n",
       "      border-color: transparent;\n",
       "      border-left-color: var(--fill-color);\n",
       "      border-top-color: var(--fill-color);\n",
       "    }\n",
       "    30% {\n",
       "      border-color: transparent;\n",
       "      border-left-color: var(--fill-color);\n",
       "      border-top-color: var(--fill-color);\n",
       "      border-right-color: var(--fill-color);\n",
       "    }\n",
       "    40% {\n",
       "      border-color: transparent;\n",
       "      border-right-color: var(--fill-color);\n",
       "      border-top-color: var(--fill-color);\n",
       "    }\n",
       "    60% {\n",
       "      border-color: transparent;\n",
       "      border-right-color: var(--fill-color);\n",
       "    }\n",
       "    80% {\n",
       "      border-color: transparent;\n",
       "      border-right-color: var(--fill-color);\n",
       "      border-bottom-color: var(--fill-color);\n",
       "    }\n",
       "    90% {\n",
       "      border-color: transparent;\n",
       "      border-bottom-color: var(--fill-color);\n",
       "    }\n",
       "  }\n",
       "</style>\n",
       "\n",
       "  <script>\n",
       "    async function quickchart(key) {\n",
       "      const quickchartButtonEl =\n",
       "        document.querySelector('#' + key + ' button');\n",
       "      quickchartButtonEl.disabled = true;  // To prevent multiple clicks.\n",
       "      quickchartButtonEl.classList.add('colab-df-spinner');\n",
       "      try {\n",
       "        const charts = await google.colab.kernel.invokeFunction(\n",
       "            'suggestCharts', [key], {});\n",
       "      } catch (error) {\n",
       "        console.error('Error during call to suggestCharts:', error);\n",
       "      }\n",
       "      quickchartButtonEl.classList.remove('colab-df-spinner');\n",
       "      quickchartButtonEl.classList.add('colab-df-quickchart-complete');\n",
       "    }\n",
       "    (() => {\n",
       "      let quickchartButtonEl =\n",
       "        document.querySelector('#df-5f025498-70ee-443f-a153-60d52906bb9f button');\n",
       "      quickchartButtonEl.style.display =\n",
       "        google.colab.kernel.accessAllowed ? 'block' : 'none';\n",
       "    })();\n",
       "  </script>\n",
       "</div>\n",
       "\n",
       "    </div>\n",
       "  </div>\n"
      ],
      "application/vnd.google.colaboratory.intrinsic+json": {
       "type": "dataframe",
       "variable_name": "partial_dataset",
       "summary": "{\n  \"name\": \"partial_dataset\",\n  \"rows\": 400,\n  \"fields\": [\n    {\n      \"column\": \"caption\",\n      \"properties\": {\n        \"dtype\": \"string\",\n        \"num_unique_values\": 400,\n        \"samples\": [\n          \"Are you an Osprey family? Head to our Stories and let us know your little one's favorite way to explore. \\n\\n#OspreyPacks\",\n          \"Happy Valentines Day to all you love birds out there! | \\ud83d\\udcf7 @caitbourgaultphotography of @sunriseandwildlife | Featured pack from the Kestrel/Kyte & Aether/Ariel Series | #OspreyPacks\",\n          \"#OspreyPartner The Global Climbing Initiative\\u2019s Community Grants program is now open for applications until Feb. 29! \\n\\nWith this year\\u2019s 3 grant categories, GCI is looking to power climbing communities around the globe with the tools and skills they need to thrive. If you have an organization that aligns, check out more info at the link in bio and apply now.\"\n        ],\n        \"semantic_type\": \"\",\n        \"description\": \"\"\n      }\n    },\n    {\n      \"column\": \"likesCount\",\n      \"properties\": {\n        \"dtype\": \"number\",\n        \"std\": 6713,\n        \"min\": -1,\n        \"max\": 131870,\n        \"num_unique_values\": 331,\n        \"samples\": [\n          449,\n          786,\n          958\n        ],\n        \"semantic_type\": \"\",\n        \"description\": \"\"\n      }\n    },\n    {\n      \"column\": \"ownerUsername\",\n      \"properties\": {\n        \"dtype\": \"category\",\n        \"num_unique_values\": 5,\n        \"samples\": [\n          \"ospreypacks\",\n          \"marleyblonsky\",\n          \"sprucetonefilms\"\n        ],\n        \"semantic_type\": \"\",\n        \"description\": \"\"\n      }\n    }\n  ]\n}"
      }
     },
     "metadata": {},
     "execution_count": 13
    }
   ]
  },
  {
   "cell_type": "markdown",
   "source": [
    "Now we should dive more into this columns to find some wrong data, outliers and more"
   ],
   "metadata": {
    "id": "rmwwyN574KfF"
   }
  },
  {
   "cell_type": "markdown",
   "source": [
    "### Analyzing 'caption' column"
   ],
   "metadata": {
    "id": "TgsL59-DFKUq"
   }
  },
  {
   "cell_type": "markdown",
   "source": [
    "To begin with, let us find some missing caption or no caption under the post."
   ],
   "metadata": {
    "id": "Syxp72_B4W2_"
   }
  },
  {
   "cell_type": "code",
   "source": [
    "caption_isna = partial_dataset[partial_dataset['caption'].isna()]['caption'].count()"
   ],
   "metadata": {
    "id": "MpOZZ4oxJHGf"
   },
   "execution_count": 14,
   "outputs": []
  },
  {
   "cell_type": "code",
   "source": [
    "print(f'Number of posts without caption: {caption_isna}')"
   ],
   "metadata": {
    "colab": {
     "base_uri": "https://localhost:8080/"
    },
    "id": "3Je5D7KDLEPZ",
    "outputId": "b1f1de3b-90a8-4d69-9bda-6faca5155cd4"
   },
   "execution_count": 15,
   "outputs": [
    {
     "output_type": "stream",
     "name": "stdout",
     "text": [
      "Number of posts without caption: 0\n"
     ]
    }
   ]
  },
  {
   "cell_type": "markdown",
   "source": [
    "Good, now let us look at the distribution of the number of tokens from posts. It will be useful later to create a prompt template."
   ],
   "metadata": {
    "id": "pilvOKuz45pj"
   }
  },
  {
   "cell_type": "code",
   "source": [
    "token_counts = partial_dataset['caption'].apply(lambda x: len(x.split()))"
   ],
   "metadata": {
    "id": "BNwuvputKQSI"
   },
   "execution_count": 16,
   "outputs": []
  },
  {
   "cell_type": "code",
   "source": [
    "token_counts.plot(kind='hist', bins=400, title='Histogram of Number of Tokens in Caption Column')\n",
    "plt.gca().spines[['top', 'right',]].set_visible(False)\n",
    "plt.xlabel('Number of Tokens')\n",
    "plt.ylabel('Frequency')\n",
    "plt.show()"
   ],
   "metadata": {
    "colab": {
     "base_uri": "https://localhost:8080/",
     "height": 472
    },
    "id": "td1sLyV5J9AD",
    "outputId": "01abe677-57f7-4066-b9be-04b007ec33a2"
   },
   "execution_count": 17,
   "outputs": [
    {
     "output_type": "display_data",
     "data": {
      "text/plain": [
       "<Figure size 640x480 with 1 Axes>"
      ],
      "image/png": "[encoded data removed]"
     },
     "metadata": {}
    }
   ]
  },
  {
   "cell_type": "markdown",
   "source": [
    "### Analyzing 'ownerUsername' column"
   ],
   "metadata": {
    "id": "wusqv5aIJrLC"
   }
  },
  {
   "cell_type": "markdown",
   "source": [
    "We will use only posts from ospreypacks, not co-authors, so let us see if we have them."
   ],
   "metadata": {
    "id": "jWO8rqmN6omR"
   }
  },
  {
   "cell_type": "code",
   "source": [
    "non_ospreypacks = partial_dataset[partial_dataset['ownerUsername'] != 'ospreypacks']['ownerUsername'].count()"
   ],
   "metadata": {
    "id": "cx55fPLOFyFf"
   },
   "execution_count": 18,
   "outputs": []
  },
  {
   "cell_type": "code",
   "source": [
    "print(f'Number of other post authors: {non_ospreypacks}')"
   ],
   "metadata": {
    "colab": {
     "base_uri": "https://localhost:8080/"
    },
    "id": "SdZUVkpBGtBo",
    "outputId": "c7ee4438-6a3e-4ade-a985-22f17b209b49"
   },
   "execution_count": 19,
   "outputs": [
    {
     "output_type": "stream",
     "name": "stdout",
     "text": [
      "Number of other post authors: 4\n"
     ]
    }
   ]
  },
  {
   "cell_type": "markdown",
   "source": [
    "Let's drop them."
   ],
   "metadata": {
    "id": "KzZ_dFWF67vK"
   }
  },
  {
   "cell_type": "code",
   "source": [
    "partial_dataset_ospreypacks = partial_dataset[partial_dataset['ownerUsername'] == 'ospreypacks']"
   ],
   "metadata": {
    "id": "FjtdV5RuFRE0"
   },
   "execution_count": 20,
   "outputs": []
  },
  {
   "cell_type": "code",
   "source": [
    "partial_dataset_ospreypacks.shape"
   ],
   "metadata": {
    "colab": {
     "base_uri": "https://localhost:8080/"
    },
    "id": "Ppq7l7rWHF8I",
    "outputId": "b9e93245-6808-4f55-f532-06fae92d00e0"
   },
   "execution_count": 21,
   "outputs": [
    {
     "output_type": "execute_result",
     "data": {
      "text/plain": [
       "(396, 3)"
      ]
     },
     "metadata": {},
     "execution_count": 21
    }
   ]
  },
  {
   "cell_type": "markdown",
   "source": [
    "### Analyzing 'likesCount' column"
   ],
   "metadata": {
    "id": "44TCE7VHHTWU"
   }
  },
  {
   "cell_type": "markdown",
   "source": [
    "We should check if we have any negative or zero likesCount values."
   ],
   "metadata": {
    "id": "N0v9UwUE7RIF"
   }
  },
  {
   "cell_type": "code",
   "source": [
    "negative_likes = (partial_dataset_ospreypacks['likesCount'] <= 0).sum()"
   ],
   "metadata": {
    "id": "ksm-BnCLI2RA"
   },
   "execution_count": 22,
   "outputs": []
  },
  {
   "cell_type": "code",
   "source": [
    "print(f'Number of likes that are less or equal zero: {negative_likes}')"
   ],
   "metadata": {
    "colab": {
     "base_uri": "https://localhost:8080/"
    },
    "id": "NYbHFY-ZI9-O",
    "outputId": "b12d378f-d4cb-4fa2-abbe-e5dcf1fc03af"
   },
   "execution_count": 23,
   "outputs": [
    {
     "output_type": "stream",
     "name": "stdout",
     "text": [
      "Number of likes that are less or equal zero: 24\n"
     ]
    }
   ]
  },
  {
   "cell_type": "markdown",
   "source": [
    "Unexpectedly, quite a lot. Let us drop them."
   ],
   "metadata": {
    "id": "y2B2f7tF7beS"
   }
  },
  {
   "cell_type": "code",
   "source": [
    "partial_dataset_liked = partial_dataset_ospreypacks[partial_dataset_ospreypacks['likesCount'] > 0]"
   ],
   "metadata": {
    "id": "rn1pGgQxL1_u"
   },
   "execution_count": 24,
   "outputs": []
  },
  {
   "cell_type": "code",
   "source": [
    "partial_dataset_liked.shape"
   ],
   "metadata": {
    "colab": {
     "base_uri": "https://localhost:8080/"
    },
    "id": "OT8Y3u_3MJ60",
    "outputId": "9b277820-240c-40f0-f6ec-4fd499f458c1"
   },
   "execution_count": 25,
   "outputs": [
    {
     "output_type": "execute_result",
     "data": {
      "text/plain": [
       "(372, 3)"
      ]
     },
     "metadata": {},
     "execution_count": 25
    }
   ]
  },
  {
   "cell_type": "markdown",
   "source": [
    "At this time, we should look at the distribution of the likes and find some outliers or \"too many likes under the post.\""
   ],
   "metadata": {
    "id": "F4IYdccA7qRo"
   }
  },
  {
   "cell_type": "code",
   "source": [
    "plt.figure(figsize=(8, 6))\n",
    "plt.boxplot(partial_dataset_ospreypacks['likesCount'], vert=False)\n",
    "plt.title('Boxplot of likesCount')\n",
    "plt.xlabel('Likes Count')\n",
    "plt.show()"
   ],
   "metadata": {
    "colab": {
     "base_uri": "https://localhost:8080/",
     "height": 564
    },
    "id": "22iZEhNdBuPi",
    "outputId": "7ac8fb54-05ad-4cd3-bad9-9bbfb8bc478e"
   },
   "execution_count": 26,
   "outputs": [
    {
     "output_type": "display_data",
     "data": {
      "text/plain": [
       "<Figure size 800x600 with 1 Axes>"
      ],
      "image/png": "[encoded data removed]"
     },
     "metadata": {}
    }
   ]
  },
  {
   "cell_type": "markdown",
   "source": [
    "We must read the most liked post."
   ],
   "metadata": {
    "id": "1H2Cw8Pp8XjX"
   }
  },
  {
   "cell_type": "code",
   "source": [
    "the_most_liked = partial_dataset_liked[partial_dataset_liked['likesCount'] > 100000]['caption']"
   ],
   "metadata": {
    "id": "Y266HfwfCqxG"
   },
   "execution_count": 27,
   "outputs": []
  },
  {
   "cell_type": "code",
   "source": [
    "print(the_most_liked)"
   ],
   "metadata": {
    "colab": {
     "base_uri": "https://localhost:8080/"
    },
    "id": "GdozSwLGMolf",
    "outputId": "2bb223f8-fcca-4431-8138-4286772e76e0"
   },
   "execution_count": 28,
   "outputs": [
    {
     "output_type": "stream",
     "name": "stdout",
     "text": [
      "106    When the hike actually is worth it once you see the view … \\n\\n#OspreyPacks | Featuring the Atmos AG LT 65\n",
      "Name: caption, dtype: object\n"
     ]
    }
   ]
  },
  {
   "cell_type": "markdown",
   "source": [
    "We should remove outliers for now to better see the distribution, but we will include them later."
   ],
   "metadata": {
    "id": "bEIqyteF8oHr"
   }
  },
  {
   "cell_type": "code",
   "source": [
    "Q1 = partial_dataset_liked['likesCount'].quantile(0.25)\n",
    "Q3 = partial_dataset_liked['likesCount'].quantile(0.75)\n",
    "IQR = Q3 - Q1\n",
    "\n",
    "lower_bound = Q1 - 1.5 * IQR\n",
    "upper_bound = Q3 + 1.5 * IQR\n",
    "\n",
    "outliers_lower = (partial_dataset_liked['likesCount'] < lower_bound).sum()\n",
    "outliers_upper = (partial_dataset_liked['likesCount'] > upper_bound).sum()"
   ],
   "metadata": {
    "id": "cmAoCN7BEgbB"
   },
   "execution_count": 29,
   "outputs": []
  },
  {
   "cell_type": "code",
   "source": [
    "print(\"Number of outliers lower bound:\", outliers_lower)\n",
    "print(\"Number of outliers upper bound:\", outliers_upper)"
   ],
   "metadata": {
    "colab": {
     "base_uri": "https://localhost:8080/"
    },
    "id": "GjRZVpKrEpXk",
    "outputId": "f84dbe66-6995-4de4-9add-296a79e88a86"
   },
   "execution_count": 30,
   "outputs": [
    {
     "output_type": "stream",
     "name": "stdout",
     "text": [
      "Number of outliers lower bound: 0\n",
      "Number of outliers upper bound: 29\n"
     ]
    }
   ]
  },
  {
   "cell_type": "code",
   "source": [
    "filter = (partial_dataset_liked['likesCount'] > lower_bound) & (partial_dataset_liked['likesCount'] < upper_bound)\n",
    "partial_dataset_IQR = partial_dataset_liked[filter]"
   ],
   "metadata": {
    "id": "4oJ-0ZrjNmjo"
   },
   "execution_count": 31,
   "outputs": []
  },
  {
   "cell_type": "code",
   "source": [
    "partial_dataset_IQR.shape"
   ],
   "metadata": {
    "colab": {
     "base_uri": "https://localhost:8080/"
    },
    "id": "FqLXyxJuOP-P",
    "outputId": "3e50bf7f-110a-43e3-f440-3e79a83c2554"
   },
   "execution_count": 32,
   "outputs": [
    {
     "output_type": "execute_result",
     "data": {
      "text/plain": [
       "(343, 3)"
      ]
     },
     "metadata": {},
     "execution_count": 32
    }
   ]
  },
  {
   "cell_type": "code",
   "source": [
    "partial_dataset_IQR.plot(kind='hist', bins=400, title='likesCount')"
   ],
   "metadata": {
    "colab": {
     "base_uri": "https://localhost:8080/",
     "height": 469
    },
    "id": "09chTuzTILpf",
    "outputId": "219ea411-d2e2-4f23-bf34-6522eb7b9cd3"
   },
   "execution_count": 33,
   "outputs": [
    {
     "output_type": "execute_result",
     "data": {
      "text/plain": [
       "<Axes: title={'center': 'likesCount'}, ylabel='Frequency'>"
      ]
     },
     "metadata": {},
     "execution_count": 33
    },
    {
     "output_type": "display_data",
     "data": {
      "text/plain": [
       "<Figure size 640x480 with 1 Axes>"
      ],
      "image/png": "[encoded data removed]"
     },
     "metadata": {}
    }
   ]
  },
  {
   "cell_type": "markdown",
   "source": [
    "### Selecting captions for Prompt Template"
   ],
   "metadata": {
    "id": "ax3un61yOkjv"
   }
  },
  {
   "cell_type": "markdown",
   "source": [
    "We will select only top 50 most liked posts from ospreypacks to add the to the LLM prompt template later."
   ],
   "metadata": {
    "id": "8N6uYSdA9HaK"
   }
  },
  {
   "cell_type": "code",
   "source": [
    "cleaned_dataset = partial_dataset_liked.reset_index(drop=True)"
   ],
   "metadata": {
    "id": "vhQglgKCPUZs"
   },
   "execution_count": 34,
   "outputs": []
  },
  {
   "cell_type": "code",
   "source": [
    "cleaned_dataset.head()"
   ],
   "metadata": {
    "colab": {
     "base_uri": "https://localhost:8080/",
     "height": 258
    },
    "id": "zygSdo79IqfV",
    "outputId": "ac5af25e-7620-45a0-8268-f1a5a5e0f791"
   },
   "execution_count": 35,
   "outputs": [
    {
     "output_type": "execute_result",
     "data": {
      "text/plain": [
       "                                                                                                                                                                                                                                                                caption  \\\n",
       "0                                                                                                                                                                  Even on a solo hike, you need the perfect partner - pack it all with the Tempest 20.\\n\\n#OspreyPacks   \n",
       "1  Optimal performance for bigger bodies. With new additions for mountain bikers, runners and backpackers, our Extended Fit collection is more capable than ever. \\n\\n#OspreyPacks | Featuring the all-new Rook/Renn 65 EF, Raptor/Raven 14 EF and Duro/Dyna LT Belt EF   \n",
       "2                                                                                        However your spring is looking, keep your day hikes Lite. \\n\\nThe Sportlite 20 – for the fast and light crowd who know what they’re getting into and only pack what they need.   \n",
       "3                                                                                                                                   Elevate your time on the trails – lightweight and perfect for shorter day hikes, the Stratos 24 spares no features.\\n\\n#OspreyPacks   \n",
       "4                                                                           Structured, clean aesthetics meet technophile-tested organization. The all-new, modular Archeon™ Family allows you to configure your carry to meet life’s demands head-on. \\n\\n#OspreyPacks   \n",
       "\n",
       "   likesCount ownerUsername  \n",
       "0         380   ospreypacks  \n",
       "1        1735   ospreypacks  \n",
       "2         548   ospreypacks  \n",
       "3         136   ospreypacks  \n",
       "4         236   ospreypacks  "
      ],
      "text/html": [
       "\n",
       "  <div id=\"df-fe486b47-c7ba-4a87-adc8-bd7d08e9134e\" class=\"colab-df-container\">\n",
       "    <div>\n",
       "<style scoped>\n",
       "    .dataframe tbody tr th:only-of-type {\n",
       "        vertical-align: middle;\n",
       "    }\n",
       "\n",
       "    .dataframe tbody tr th {\n",
       "        vertical-align: top;\n",
       "    }\n",
       "\n",
       "    .dataframe thead th {\n",
       "        text-align: right;\n",
       "    }\n",
       "</style>\n",
       "<table border=\"1\" class=\"dataframe\">\n",
       "  <thead>\n",
       "    <tr style=\"text-align: right;\">\n",
       "      <th></th>\n",
       "      <th>caption</th>\n",
       "      <th>likesCount</th>\n",
       "      <th>ownerUsername</th>\n",
       "    </tr>\n",
       "  </thead>\n",
       "  <tbody>\n",
       "    <tr>\n",
       "      <th>0</th>\n",
       "      <td>Even on a solo hike, you need the perfect partner - pack it all with the Tempest 20.\\n\\n#OspreyPacks</td>\n",
       "      <td>380</td>\n",
       "      <td>ospreypacks</td>\n",
       "    </tr>\n",
       "    <tr>\n",
       "      <th>1</th>\n",
       "      <td>Optimal performance for bigger bodies. With new additions for mountain bikers, runners and backpackers, our Extended Fit collection is more capable than ever. \\n\\n#OspreyPacks | Featuring the all-new Rook/Renn 65 EF, Raptor/Raven 14 EF and Duro/Dyna LT Belt EF</td>\n",
       "      <td>1735</td>\n",
       "      <td>ospreypacks</td>\n",
       "    </tr>\n",
       "    <tr>\n",
       "      <th>2</th>\n",
       "      <td>However your spring is looking, keep your day hikes Lite. \\n\\nThe Sportlite 20 – for the fast and light crowd who know what they’re getting into and only pack what they need.</td>\n",
       "      <td>548</td>\n",
       "      <td>ospreypacks</td>\n",
       "    </tr>\n",
       "    <tr>\n",
       "      <th>3</th>\n",
       "      <td>Elevate your time on the trails – lightweight and perfect for shorter day hikes, the Stratos 24 spares no features.\\n\\n#OspreyPacks</td>\n",
       "      <td>136</td>\n",
       "      <td>ospreypacks</td>\n",
       "    </tr>\n",
       "    <tr>\n",
       "      <th>4</th>\n",
       "      <td>Structured, clean aesthetics meet technophile-tested organization. The all-new, modular Archeon™ Family allows you to configure your carry to meet life’s demands head-on. \\n\\n#OspreyPacks</td>\n",
       "      <td>236</td>\n",
       "      <td>ospreypacks</td>\n",
       "    </tr>\n",
       "  </tbody>\n",
       "</table>\n",
       "</div>\n",
       "    <div class=\"colab-df-buttons\">\n",
       "\n",
       "  <div class=\"colab-df-container\">\n",
       "    <button class=\"colab-df-convert\" onclick=\"convertToInteractive('df-fe486b47-c7ba-4a87-adc8-bd7d08e9134e')\"\n",
       "            title=\"Convert this dataframe to an interactive table.\"\n",
       "            style=\"display:none;\">\n",
       "\n",
       "  <svg xmlns=\"http://www.w3.org/2000/svg\" height=\"24px\" viewBox=\"0 -960 960 960\">\n",
       "    <path d=\"M120-120v-720h720v720H120Zm60-500h600v-160H180v160Zm220 220h160v-160H400v160Zm0 220h160v-160H400v160ZM180-400h160v-160H180v160Zm440 0h160v-160H620v160ZM180-180h160v-160H180v160Zm440 0h160v-160H620v160Z\"/>\n",
       "  </svg>\n",
       "    </button>\n",
       "\n",
       "  <style>\n",
       "    .colab-df-container {\n",
       "      display:flex;\n",
       "      gap: 12px;\n",
       "    }\n",
       "\n",
       "    .colab-df-convert {\n",
       "      background-color: #E8F0FE;\n",
       "      border: none;\n",
       "      border-radius: 50%;\n",
       "      cursor: pointer;\n",
       "      display: none;\n",
       "      fill: #1967D2;\n",
       "      height: 32px;\n",
       "      padding: 0 0 0 0;\n",
       "      width: 32px;\n",
       "    }\n",
       "\n",
       "    .colab-df-convert:hover {\n",
       "      background-color: #E2EBFA;\n",
       "      box-shadow: 0px 1px 2px rgba(60, 64, 67, 0.3), 0px 1px 3px 1px rgba(60, 64, 67, 0.15);\n",
       "      fill: #174EA6;\n",
       "    }\n",
       "\n",
       "    .colab-df-buttons div {\n",
       "      margin-bottom: 4px;\n",
       "    }\n",
       "\n",
       "    [theme=dark] .colab-df-convert {\n",
       "      background-color: #3B4455;\n",
       "      fill: #D2E3FC;\n",
       "    }\n",
       "\n",
       "    [theme=dark] .colab-df-convert:hover {\n",
       "      background-color: #434B5C;\n",
       "      box-shadow: 0px 1px 3px 1px rgba(0, 0, 0, 0.15);\n",
       "      filter: drop-shadow(0px 1px 2px rgba(0, 0, 0, 0.3));\n",
       "      fill: #FFFFFF;\n",
       "    }\n",
       "  </style>\n",
       "\n",
       "    <script>\n",
       "      const buttonEl =\n",
       "        document.querySelector('#df-fe486b47-c7ba-4a87-adc8-bd7d08e9134e button.colab-df-convert');\n",
       "      buttonEl.style.display =\n",
       "        google.colab.kernel.accessAllowed ? 'block' : 'none';\n",
       "\n",
       "      async function convertToInteractive(key) {\n",
       "        const element = document.querySelector('#df-fe486b47-c7ba-4a87-adc8-bd7d08e9134e');\n",
       "        const dataTable =\n",
       "          await google.colab.kernel.invokeFunction('convertToInteractive',\n",
       "                                                    [key], {});\n",
       "        if (!dataTable) return;\n",
       "\n",
       "        const docLinkHtml = 'Like what you see? Visit the ' +\n",
       "          '<a target=\"_blank\" href=https://colab.research.google.com/notebooks/data_table.ipynb>data table notebook</a>'\n",
       "          + ' to learn more about interactive tables.';\n",
       "        element.innerHTML = '';\n",
       "        dataTable['output_type'] = 'display_data';\n",
       "        await google.colab.output.renderOutput(dataTable, element);\n",
       "        const docLink = document.createElement('div');\n",
       "        docLink.innerHTML = docLinkHtml;\n",
       "        element.appendChild(docLink);\n",
       "      }\n",
       "    </script>\n",
       "  </div>\n",
       "\n",
       "\n",
       "<div id=\"df-a102df79-4a8c-4c06-8e4f-f6a929c725f9\">\n",
       "  <button class=\"colab-df-quickchart\" onclick=\"quickchart('df-a102df79-4a8c-4c06-8e4f-f6a929c725f9')\"\n",
       "            title=\"Suggest charts\"\n",
       "            style=\"display:none;\">\n",
       "\n",
       "<svg xmlns=\"http://www.w3.org/2000/svg\" height=\"24px\"viewBox=\"0 0 24 24\"\n",
       "     width=\"24px\">\n",
       "    <g>\n",
       "        <path d=\"M19 3H5c-1.1 0-2 .9-2 2v14c0 1.1.9 2 2 2h14c1.1 0 2-.9 2-2V5c0-1.1-.9-2-2-2zM9 17H7v-7h2v7zm4 0h-2V7h2v10zm4 0h-2v-4h2v4z\"/>\n",
       "    </g>\n",
       "</svg>\n",
       "  </button>\n",
       "\n",
       "<style>\n",
       "  .colab-df-quickchart {\n",
       "      --bg-color: #E8F0FE;\n",
       "      --fill-color: #1967D2;\n",
       "      --hover-bg-color: #E2EBFA;\n",
       "      --hover-fill-color: #174EA6;\n",
       "      --disabled-fill-color: #AAA;\n",
       "      --disabled-bg-color: #DDD;\n",
       "  }\n",
       "\n",
       "  [theme=dark] .colab-df-quickchart {\n",
       "      --bg-color: #3B4455;\n",
       "      --fill-color: #D2E3FC;\n",
       "      --hover-bg-color: #434B5C;\n",
       "      --hover-fill-color: #FFFFFF;\n",
       "      --disabled-bg-color: #3B4455;\n",
       "      --disabled-fill-color: #666;\n",
       "  }\n",
       "\n",
       "  .colab-df-quickchart {\n",
       "    background-color: var(--bg-color);\n",
       "    border: none;\n",
       "    border-radius: 50%;\n",
       "    cursor: pointer;\n",
       "    display: none;\n",
       "    fill: var(--fill-color);\n",
       "    height: 32px;\n",
       "    padding: 0;\n",
       "    width: 32px;\n",
       "  }\n",
       "\n",
       "  .colab-df-quickchart:hover {\n",
       "    background-color: var(--hover-bg-color);\n",
       "    box-shadow: 0 1px 2px rgba(60, 64, 67, 0.3), 0 1px 3px 1px rgba(60, 64, 67, 0.15);\n",
       "    fill: var(--button-hover-fill-color);\n",
       "  }\n",
       "\n",
       "  .colab-df-quickchart-complete:disabled,\n",
       "  .colab-df-quickchart-complete:disabled:hover {\n",
       "    background-color: var(--disabled-bg-color);\n",
       "    fill: var(--disabled-fill-color);\n",
       "    box-shadow: none;\n",
       "  }\n",
       "\n",
       "  .colab-df-spinner {\n",
       "    border: 2px solid var(--fill-color);\n",
       "    border-color: transparent;\n",
       "    border-bottom-color: var(--fill-color);\n",
       "    animation:\n",
       "      spin 1s steps(1) infinite;\n",
       "  }\n",
       "\n",
       "  @keyframes spin {\n",
       "    0% {\n",
       "      border-color: transparent;\n",
       "      border-bottom-color: var(--fill-color);\n",
       "      border-left-color: var(--fill-color);\n",
       "    }\n",
       "    20% {\n",
       "      border-color: transparent;\n",
       "      border-left-color: var(--fill-color);\n",
       "      border-top-color: var(--fill-color);\n",
       "    }\n",
       "    30% {\n",
       "      border-color: transparent;\n",
       "      border-left-color: var(--fill-color);\n",
       "      border-top-color: var(--fill-color);\n",
       "      border-right-color: var(--fill-color);\n",
       "    }\n",
       "    40% {\n",
       "      border-color: transparent;\n",
       "      border-right-color: var(--fill-color);\n",
       "      border-top-color: var(--fill-color);\n",
       "    }\n",
       "    60% {\n",
       "      border-color: transparent;\n",
       "      border-right-color: var(--fill-color);\n",
       "    }\n",
       "    80% {\n",
       "      border-color: transparent;\n",
       "      border-right-color: var(--fill-color);\n",
       "      border-bottom-color: var(--fill-color);\n",
       "    }\n",
       "    90% {\n",
       "      border-color: transparent;\n",
       "      border-bottom-color: var(--fill-color);\n",
       "    }\n",
       "  }\n",
       "</style>\n",
       "\n",
       "  <script>\n",
       "    async function quickchart(key) {\n",
       "      const quickchartButtonEl =\n",
       "        document.querySelector('#' + key + ' button');\n",
       "      quickchartButtonEl.disabled = true;  // To prevent multiple clicks.\n",
       "      quickchartButtonEl.classList.add('colab-df-spinner');\n",
       "      try {\n",
       "        const charts = await google.colab.kernel.invokeFunction(\n",
       "            'suggestCharts', [key], {});\n",
       "      } catch (error) {\n",
       "        console.error('Error during call to suggestCharts:', error);\n",
       "      }\n",
       "      quickchartButtonEl.classList.remove('colab-df-spinner');\n",
       "      quickchartButtonEl.classList.add('colab-df-quickchart-complete');\n",
       "    }\n",
       "    (() => {\n",
       "      let quickchartButtonEl =\n",
       "        document.querySelector('#df-a102df79-4a8c-4c06-8e4f-f6a929c725f9 button');\n",
       "      quickchartButtonEl.style.display =\n",
       "        google.colab.kernel.accessAllowed ? 'block' : 'none';\n",
       "    })();\n",
       "  </script>\n",
       "</div>\n",
       "\n",
       "    </div>\n",
       "  </div>\n"
      ],
      "application/vnd.google.colaboratory.intrinsic+json": {
       "type": "dataframe",
       "variable_name": "cleaned_dataset",
       "summary": "{\n  \"name\": \"cleaned_dataset\",\n  \"rows\": 372,\n  \"fields\": [\n    {\n      \"column\": \"caption\",\n      \"properties\": {\n        \"dtype\": \"string\",\n        \"num_unique_values\": 372,\n        \"samples\": [\n          \"\\\"I\\u2019ve been chasing steep skiing my whole life; I live for these moments in both skiing and guiding. With my family ski touring below me, closer to shore, I had a solitary moment of freedom and bliss.\\\"\\n\\n@kimhavell, #OspreyAthlete has guided with @iceaxeexpeditions all over the world and recently got to bring her family along on an expedition, skiing and sailing through Iceland.\\n\\nRead her reflections in our most recent blog post, linked in our bio.\\n\\n|\\ud83d\\udcf7 1,3: @steinretzlaff | \\ud83d\\udcf7 2: @karissa_akin | #OspreyPacks #OspreyAthlete\",\n          \"Yearning for a change of pace? Pick a destination that comes alive in spring and let the energy of the season carry you away. \\n\\n#OspreyPacks | Featuring the Daylite\\u00ae, Transporter\\u00ae, and Sojourn\\u2122 Travel Families.\",\n          \"Who else is ready for hikes to look a bit more green? Happy spring \\ud83c\\udf31 \\n\\n#OspreyPacks\"\n        ],\n        \"semantic_type\": \"\",\n        \"description\": \"\"\n      }\n    },\n    {\n      \"column\": \"likesCount\",\n      \"properties\": {\n        \"dtype\": \"number\",\n        \"std\": 6942,\n        \"min\": 136,\n        \"max\": 131870,\n        \"num_unique_values\": 328,\n        \"samples\": [\n          2208,\n          696,\n          3755\n        ],\n        \"semantic_type\": \"\",\n        \"description\": \"\"\n      }\n    },\n    {\n      \"column\": \"ownerUsername\",\n      \"properties\": {\n        \"dtype\": \"category\",\n        \"num_unique_values\": 1,\n        \"samples\": [\n          \"ospreypacks\"\n        ],\n        \"semantic_type\": \"\",\n        \"description\": \"\"\n      }\n    }\n  ]\n}"
      }
     },
     "metadata": {},
     "execution_count": 35
    }
   ]
  },
  {
   "cell_type": "code",
   "source": [
    "cleaned_dataset.info()"
   ],
   "metadata": {
    "colab": {
     "base_uri": "https://localhost:8080/"
    },
    "id": "kGu9QbLGPJ1V",
    "outputId": "6fa8a095-0513-46d9-a164-e77e6cc90d57"
   },
   "execution_count": 36,
   "outputs": [
    {
     "output_type": "stream",
     "name": "stdout",
     "text": [
      "<class 'pandas.core.frame.DataFrame'>\n",
      "RangeIndex: 372 entries, 0 to 371\n",
      "Data columns (total 3 columns):\n",
      " #   Column         Non-Null Count  Dtype \n",
      "---  ------         --------------  ----- \n",
      " 0   caption        372 non-null    object\n",
      " 1   likesCount     372 non-null    int64 \n",
      " 2   ownerUsername  372 non-null    object\n",
      "dtypes: int64(1), object(2)\n",
      "memory usage: 8.8+ KB\n"
     ]
    }
   ]
  },
  {
   "cell_type": "code",
   "source": [
    "sorted_dataset = cleaned_dataset.sort_values(by='likesCount', ascending=False).reset_index(drop=True)\n",
    "top_50_most_liked_posts = sorted_dataset.head(50)"
   ],
   "metadata": {
    "id": "gKVNi_aaQDEE"
   },
   "execution_count": 37,
   "outputs": []
  },
  {
   "cell_type": "code",
   "source": [
    "top_50_most_liked_posts.head()"
   ],
   "metadata": {
    "colab": {
     "base_uri": "https://localhost:8080/",
     "height": 292
    },
    "id": "p4VAUM5qQYXa",
    "outputId": "e6500135-4dc5-4378-d294-23ccce903561"
   },
   "execution_count": 38,
   "outputs": [
    {
     "output_type": "execute_result",
     "data": {
      "text/plain": [
       "                                                                                                                                                                                                                                                                                                                                                                                                                                                                                                                                                                                                                                                                                                                                         caption  \\\n",
       "0                                                                                                                                                                                                                                                                                                                                                                                                                                                                                                                                                                                                                                     When the hike actually is worth it once you see the view … \\n\\n#OspreyPacks | Featuring the Atmos AG LT 65   \n",
       "1                                                                                                                                                                                                                                                                                                                                                                                                                                                                                                                                                                                                                                            Looking to get your kiddos in on the adventure? The Poco Collection is the perfect place to start 🌱   \n",
       "2  “I knew I needed to find something that’d help me feel more alive; to challenge and reconnect with myself. I wanted to hike.” \\n\\nCeleste Thompson (@fatgirlforthefitsoul) rarely saw herself depicted in the activities and landscapes that called to her. But she didn’t let a lack of representation stop her from getting out on the trail.\\n\\nTen years after her first hiking experience, Celeste’s new goal is to hike every state in 2023.\\n\\nFind out how Celeste is leveraging her platform to create a supportive community of hikers and promote inclusion across the outdoor industry at the link in our bio!\\n\\nFeatured pack from the all-new Talon/Tempest and Sportlite Extended Fit Series | #OspreyPacks #OspreyAmbassador   \n",
       "3                                                                                                                                                                                                                                                                                                                                                                                                                                                                                                                                                             We are bidding farewell to backpacking season with a good laugh from @sowewent and their kids. | 🎥 @sowewent | Featured packs from the Aether/Ariel and Poco Series | #OspreyPacks   \n",
       "4                                                                                                                                                                                                                                                                                                                                                                                                                                                                                                                                                                                                                                                             Whatever it is, we’ve got it in the bag. Flex your pack lineup and share with us 😎   \n",
       "\n",
       "   likesCount ownerUsername  \n",
       "0      131870   ospreypacks  \n",
       "1       15547   ospreypacks  \n",
       "2       13826   ospreypacks  \n",
       "3       12012   ospreypacks  \n",
       "4        8098   ospreypacks  "
      ],
      "text/html": [
       "\n",
       "  <div id=\"df-c5180a8d-7188-4b8b-bd36-e03766c33e57\" class=\"colab-df-container\">\n",
       "    <div>\n",
       "<style scoped>\n",
       "    .dataframe tbody tr th:only-of-type {\n",
       "        vertical-align: middle;\n",
       "    }\n",
       "\n",
       "    .dataframe tbody tr th {\n",
       "        vertical-align: top;\n",
       "    }\n",
       "\n",
       "    .dataframe thead th {\n",
       "        text-align: right;\n",
       "    }\n",
       "</style>\n",
       "<table border=\"1\" class=\"dataframe\">\n",
       "  <thead>\n",
       "    <tr style=\"text-align: right;\">\n",
       "      <th></th>\n",
       "      <th>caption</th>\n",
       "      <th>likesCount</th>\n",
       "      <th>ownerUsername</th>\n",
       "    </tr>\n",
       "  </thead>\n",
       "  <tbody>\n",
       "    <tr>\n",
       "      <th>0</th>\n",
       "      <td>When the hike actually is worth it once you see the view … \\n\\n#OspreyPacks | Featuring the Atmos AG LT 65</td>\n",
       "      <td>131870</td>\n",
       "      <td>ospreypacks</td>\n",
       "    </tr>\n",
       "    <tr>\n",
       "      <th>1</th>\n",
       "      <td>Looking to get your kiddos in on the adventure? The Poco Collection is the perfect place to start 🌱</td>\n",
       "      <td>15547</td>\n",
       "      <td>ospreypacks</td>\n",
       "    </tr>\n",
       "    <tr>\n",
       "      <th>2</th>\n",
       "      <td>“I knew I needed to find something that’d help me feel more alive; to challenge and reconnect with myself. I wanted to hike.” \\n\\nCeleste Thompson (@fatgirlforthefitsoul) rarely saw herself depicted in the activities and landscapes that called to her. But she didn’t let a lack of representation stop her from getting out on the trail.\\n\\nTen years after her first hiking experience, Celeste’s new goal is to hike every state in 2023.\\n\\nFind out how Celeste is leveraging her platform to create a supportive community of hikers and promote inclusion across the outdoor industry at the link in our bio!\\n\\nFeatured pack from the all-new Talon/Tempest and Sportlite Extended Fit Series | #OspreyPacks #OspreyAmbassador</td>\n",
       "      <td>13826</td>\n",
       "      <td>ospreypacks</td>\n",
       "    </tr>\n",
       "    <tr>\n",
       "      <th>3</th>\n",
       "      <td>We are bidding farewell to backpacking season with a good laugh from @sowewent and their kids. | 🎥 @sowewent | Featured packs from the Aether/Ariel and Poco Series | #OspreyPacks</td>\n",
       "      <td>12012</td>\n",
       "      <td>ospreypacks</td>\n",
       "    </tr>\n",
       "    <tr>\n",
       "      <th>4</th>\n",
       "      <td>Whatever it is, we’ve got it in the bag. Flex your pack lineup and share with us 😎</td>\n",
       "      <td>8098</td>\n",
       "      <td>ospreypacks</td>\n",
       "    </tr>\n",
       "  </tbody>\n",
       "</table>\n",
       "</div>\n",
       "    <div class=\"colab-df-buttons\">\n",
       "\n",
       "  <div class=\"colab-df-container\">\n",
       "    <button class=\"colab-df-convert\" onclick=\"convertToInteractive('df-c5180a8d-7188-4b8b-bd36-e03766c33e57')\"\n",
       "            title=\"Convert this dataframe to an interactive table.\"\n",
       "            style=\"display:none;\">\n",
       "\n",
       "  <svg xmlns=\"http://www.w3.org/2000/svg\" height=\"24px\" viewBox=\"0 -960 960 960\">\n",
       "    <path d=\"M120-120v-720h720v720H120Zm60-500h600v-160H180v160Zm220 220h160v-160H400v160Zm0 220h160v-160H400v160ZM180-400h160v-160H180v160Zm440 0h160v-160H620v160ZM180-180h160v-160H180v160Zm440 0h160v-160H620v160Z\"/>\n",
       "  </svg>\n",
       "    </button>\n",
       "\n",
       "  <style>\n",
       "    .colab-df-container {\n",
       "      display:flex;\n",
       "      gap: 12px;\n",
       "    }\n",
       "\n",
       "    .colab-df-convert {\n",
       "      background-color: #E8F0FE;\n",
       "      border: none;\n",
       "      border-radius: 50%;\n",
       "      cursor: pointer;\n",
       "      display: none;\n",
       "      fill: #1967D2;\n",
       "      height: 32px;\n",
       "      padding: 0 0 0 0;\n",
       "      width: 32px;\n",
       "    }\n",
       "\n",
       "    .colab-df-convert:hover {\n",
       "      background-color: #E2EBFA;\n",
       "      box-shadow: 0px 1px 2px rgba(60, 64, 67, 0.3), 0px 1px 3px 1px rgba(60, 64, 67, 0.15);\n",
       "      fill: #174EA6;\n",
       "    }\n",
       "\n",
       "    .colab-df-buttons div {\n",
       "      margin-bottom: 4px;\n",
       "    }\n",
       "\n",
       "    [theme=dark] .colab-df-convert {\n",
       "      background-color: #3B4455;\n",
       "      fill: #D2E3FC;\n",
       "    }\n",
       "\n",
       "    [theme=dark] .colab-df-convert:hover {\n",
       "      background-color: #434B5C;\n",
       "      box-shadow: 0px 1px 3px 1px rgba(0, 0, 0, 0.15);\n",
       "      filter: drop-shadow(0px 1px 2px rgba(0, 0, 0, 0.3));\n",
       "      fill: #FFFFFF;\n",
       "    }\n",
       "  </style>\n",
       "\n",
       "    <script>\n",
       "      const buttonEl =\n",
       "        document.querySelector('#df-c5180a8d-7188-4b8b-bd36-e03766c33e57 button.colab-df-convert');\n",
       "      buttonEl.style.display =\n",
       "        google.colab.kernel.accessAllowed ? 'block' : 'none';\n",
       "\n",
       "      async function convertToInteractive(key) {\n",
       "        const element = document.querySelector('#df-c5180a8d-7188-4b8b-bd36-e03766c33e57');\n",
       "        const dataTable =\n",
       "          await google.colab.kernel.invokeFunction('convertToInteractive',\n",
       "                                                    [key], {});\n",
       "        if (!dataTable) return;\n",
       "\n",
       "        const docLinkHtml = 'Like what you see? Visit the ' +\n",
       "          '<a target=\"_blank\" href=https://colab.research.google.com/notebooks/data_table.ipynb>data table notebook</a>'\n",
       "          + ' to learn more about interactive tables.';\n",
       "        element.innerHTML = '';\n",
       "        dataTable['output_type'] = 'display_data';\n",
       "        await google.colab.output.renderOutput(dataTable, element);\n",
       "        const docLink = document.createElement('div');\n",
       "        docLink.innerHTML = docLinkHtml;\n",
       "        element.appendChild(docLink);\n",
       "      }\n",
       "    </script>\n",
       "  </div>\n",
       "\n",
       "\n",
       "<div id=\"df-69663dd8-cd83-496f-8df3-5834c2035d8f\">\n",
       "  <button class=\"colab-df-quickchart\" onclick=\"quickchart('df-69663dd8-cd83-496f-8df3-5834c2035d8f')\"\n",
       "            title=\"Suggest charts\"\n",
       "            style=\"display:none;\">\n",
       "\n",
       "<svg xmlns=\"http://www.w3.org/2000/svg\" height=\"24px\"viewBox=\"0 0 24 24\"\n",
       "     width=\"24px\">\n",
       "    <g>\n",
       "        <path d=\"M19 3H5c-1.1 0-2 .9-2 2v14c0 1.1.9 2 2 2h14c1.1 0 2-.9 2-2V5c0-1.1-.9-2-2-2zM9 17H7v-7h2v7zm4 0h-2V7h2v10zm4 0h-2v-4h2v4z\"/>\n",
       "    </g>\n",
       "</svg>\n",
       "  </button>\n",
       "\n",
       "<style>\n",
       "  .colab-df-quickchart {\n",
       "      --bg-color: #E8F0FE;\n",
       "      --fill-color: #1967D2;\n",
       "      --hover-bg-color: #E2EBFA;\n",
       "      --hover-fill-color: #174EA6;\n",
       "      --disabled-fill-color: #AAA;\n",
       "      --disabled-bg-color: #DDD;\n",
       "  }\n",
       "\n",
       "  [theme=dark] .colab-df-quickchart {\n",
       "      --bg-color: #3B4455;\n",
       "      --fill-color: #D2E3FC;\n",
       "      --hover-bg-color: #434B5C;\n",
       "      --hover-fill-color: #FFFFFF;\n",
       "      --disabled-bg-color: #3B4455;\n",
       "      --disabled-fill-color: #666;\n",
       "  }\n",
       "\n",
       "  .colab-df-quickchart {\n",
       "    background-color: var(--bg-color);\n",
       "    border: none;\n",
       "    border-radius: 50%;\n",
       "    cursor: pointer;\n",
       "    display: none;\n",
       "    fill: var(--fill-color);\n",
       "    height: 32px;\n",
       "    padding: 0;\n",
       "    width: 32px;\n",
       "  }\n",
       "\n",
       "  .colab-df-quickchart:hover {\n",
       "    background-color: var(--hover-bg-color);\n",
       "    box-shadow: 0 1px 2px rgba(60, 64, 67, 0.3), 0 1px 3px 1px rgba(60, 64, 67, 0.15);\n",
       "    fill: var(--button-hover-fill-color);\n",
       "  }\n",
       "\n",
       "  .colab-df-quickchart-complete:disabled,\n",
       "  .colab-df-quickchart-complete:disabled:hover {\n",
       "    background-color: var(--disabled-bg-color);\n",
       "    fill: var(--disabled-fill-color);\n",
       "    box-shadow: none;\n",
       "  }\n",
       "\n",
       "  .colab-df-spinner {\n",
       "    border: 2px solid var(--fill-color);\n",
       "    border-color: transparent;\n",
       "    border-bottom-color: var(--fill-color);\n",
       "    animation:\n",
       "      spin 1s steps(1) infinite;\n",
       "  }\n",
       "\n",
       "  @keyframes spin {\n",
       "    0% {\n",
       "      border-color: transparent;\n",
       "      border-bottom-color: var(--fill-color);\n",
       "      border-left-color: var(--fill-color);\n",
       "    }\n",
       "    20% {\n",
       "      border-color: transparent;\n",
       "      border-left-color: var(--fill-color);\n",
       "      border-top-color: var(--fill-color);\n",
       "    }\n",
       "    30% {\n",
       "      border-color: transparent;\n",
       "      border-left-color: var(--fill-color);\n",
       "      border-top-color: var(--fill-color);\n",
       "      border-right-color: var(--fill-color);\n",
       "    }\n",
       "    40% {\n",
       "      border-color: transparent;\n",
       "      border-right-color: var(--fill-color);\n",
       "      border-top-color: var(--fill-color);\n",
       "    }\n",
       "    60% {\n",
       "      border-color: transparent;\n",
       "      border-right-color: var(--fill-color);\n",
       "    }\n",
       "    80% {\n",
       "      border-color: transparent;\n",
       "      border-right-color: var(--fill-color);\n",
       "      border-bottom-color: var(--fill-color);\n",
       "    }\n",
       "    90% {\n",
       "      border-color: transparent;\n",
       "      border-bottom-color: var(--fill-color);\n",
       "    }\n",
       "  }\n",
       "</style>\n",
       "\n",
       "  <script>\n",
       "    async function quickchart(key) {\n",
       "      const quickchartButtonEl =\n",
       "        document.querySelector('#' + key + ' button');\n",
       "      quickchartButtonEl.disabled = true;  // To prevent multiple clicks.\n",
       "      quickchartButtonEl.classList.add('colab-df-spinner');\n",
       "      try {\n",
       "        const charts = await google.colab.kernel.invokeFunction(\n",
       "            'suggestCharts', [key], {});\n",
       "      } catch (error) {\n",
       "        console.error('Error during call to suggestCharts:', error);\n",
       "      }\n",
       "      quickchartButtonEl.classList.remove('colab-df-spinner');\n",
       "      quickchartButtonEl.classList.add('colab-df-quickchart-complete');\n",
       "    }\n",
       "    (() => {\n",
       "      let quickchartButtonEl =\n",
       "        document.querySelector('#df-69663dd8-cd83-496f-8df3-5834c2035d8f button');\n",
       "      quickchartButtonEl.style.display =\n",
       "        google.colab.kernel.accessAllowed ? 'block' : 'none';\n",
       "    })();\n",
       "  </script>\n",
       "</div>\n",
       "\n",
       "    </div>\n",
       "  </div>\n"
      ],
      "application/vnd.google.colaboratory.intrinsic+json": {
       "type": "dataframe",
       "variable_name": "top_50_most_liked_posts",
       "summary": "{\n  \"name\": \"top_50_most_liked_posts\",\n  \"rows\": 50,\n  \"fields\": [\n    {\n      \"column\": \"caption\",\n      \"properties\": {\n        \"dtype\": \"string\",\n        \"num_unique_values\": 50,\n        \"samples\": [\n          \"We have partnered up with Elevenate, Uvex, Wagner Custom Skis, LEKI USA, and Rocky Talkie to giveaway some high end ski gear to fuel your next trip to the mountains! Win all of the essentials to get yourself out in the snow. Total package value is over $4500!\\n\\nThis sweepstakes closes on 03/01/2023 at 11:59pm EST.\\n\\nEnter to win this adventure by following the steps below:\\n\\u26f7\\ufe0f Like, comment, and share this post from any partner to your story\\n\\u26f7\\ufe0f Follow all partners in the giveaway on Instagram\\n@LEKIUSA @OSPREYPACKS @ELEVENATE @WAGNERSKIS @UVEXSPORTS_US @ROCKYTALKIES\\n\\u26f7\\ufe0f Enter the contest via link in bio!\\n\\nPrizes include:\\n\\u2744\\ufe0f Wagner Custom Skis: $1450 credit towards factory or custom skis\\n\\u2744\\ufe0f LEKI: One pair Peak Vario 3D ski poles, one pair Xplore S Mitt and Copper S ($450 value)\\n\\u2744\\ufe0f Osprey: One backpack, either Soelden 32 or Sopris 30 ($175 value)\\n\\u2744\\ufe0f Elevenate: Bec de Rosses Jacket and Pants ($1700 value)\\n\\u2744\\ufe0f UVEX: Downhill 2100 V Goggles and Ultra Mips Helmet ($450 value)\\n\\u2744\\ufe0f Rocky Talkie: Two Personal Mountain Radios ($250 value)\\n\\nTerms:\\nThis giveaway is not sponsored, endorsed, or administered by Instagram and you must be over 18 years old, and located in the United States to be eligible to win.\\nEntry is only valid through the official link provided via partners on Instagram. Enter between February 15 - March 1st.\\n\\n#LEKIUSA #uvex #uvexwintersports #wheveradventuretakesyou #wagnerskis #wagnercustom #wagnertelluride #ospreypacks #rockytalkie #damnitfeelsgoodtobeaskier #stateofelevenate\",\n          \"Embrace the world with Sojourn\\u2122.\\n\\nRugged and redesigned, the Sojourn Family was built for travelers whose destination has no limits. \\n\\n#OspreyPacks\",\n          \"Sometimes you find yourself in a sticky situation. | \\ud83c\\udfa5 @el.ventures.uk | Featuerd pack from the Stratos/Sirrus Series | #OspreyPacks\"\n        ],\n        \"semantic_type\": \"\",\n        \"description\": \"\"\n      }\n    },\n    {\n      \"column\": \"likesCount\",\n      \"properties\": {\n        \"dtype\": \"number\",\n        \"std\": 18342,\n        \"min\": 1926,\n        \"max\": 131870,\n        \"num_unique_values\": 50,\n        \"samples\": [\n          3755,\n          2157,\n          2428\n        ],\n        \"semantic_type\": \"\",\n        \"description\": \"\"\n      }\n    },\n    {\n      \"column\": \"ownerUsername\",\n      \"properties\": {\n        \"dtype\": \"category\",\n        \"num_unique_values\": 1,\n        \"samples\": [\n          \"ospreypacks\"\n        ],\n        \"semantic_type\": \"\",\n        \"description\": \"\"\n      }\n    }\n  ]\n}"
      }
     },
     "metadata": {},
     "execution_count": 38
    }
   ]
  },
  {
   "cell_type": "code",
   "source": [
    "captions_for_prompt = list(top_50_most_liked_posts['caption'])"
   ],
   "metadata": {
    "id": "M5V16LsHQuP1"
   },
   "execution_count": 39,
   "outputs": []
  },
  {
   "cell_type": "code",
   "source": [
    "captions_for_prompt[:2]"
   ],
   "metadata": {
    "colab": {
     "base_uri": "https://localhost:8080/"
    },
    "id": "Wj-Xi1gARFdg",
    "outputId": "47feafa2-99cf-470c-e769-e59e6c031ae7"
   },
   "execution_count": 40,
   "outputs": [
    {
     "output_type": "execute_result",
     "data": {
      "text/plain": [
       "['When the hike actually is worth it once you see the view … \\n\\n#OspreyPacks | Featuring the Atmos AG LT 65',\n",
       " 'Looking to get your kiddos in on the adventure? The Poco Collection is the perfect place to start 🌱']"
      ]
     },
     "metadata": {},
     "execution_count": 40
    }
   ]
  },
  {
   "cell_type": "markdown",
   "source": "# Prompt",
   "metadata": {
    "id": "drT7zwHn5iN8"
   }
  },
  {
   "cell_type": "code",
   "source": [
    "captions_for_prompt[:2]"
   ],
   "metadata": {
    "colab": {
     "base_uri": "https://localhost:8080/"
    },
    "id": "AtTOh3ui87VH",
    "outputId": "71d54730-71d4-42e4-b9ee-c821d7d56f4f"
   },
   "execution_count": 41,
   "outputs": [
    {
     "output_type": "execute_result",
     "data": {
      "text/plain": [
       "['When the hike actually is worth it once you see the view … \\n\\n#OspreyPacks | Featuring the Atmos AG LT 65',\n",
       " 'Looking to get your kiddos in on the adventure? The Poco Collection is the perfect place to start 🌱']"
      ]
     },
     "metadata": {},
     "execution_count": 41
    }
   ]
  },
  {
   "cell_type": "markdown",
   "source": [
    "Here, we transform our list with captions into a list with proper dictionaries and make a PromptTemplate of examples."
   ],
   "metadata": {
    "id": "vWjf1g06nlyn"
   }
  },
  {
   "cell_type": "code",
   "source": [
    "examples = []\n",
    "\n",
    "for caption in captions_for_prompt:\n",
    "  dictionary = {'post': caption}\n",
    "  examples.append(dictionary)"
   ],
   "metadata": {
    "id": "Xe4WTSLJ__2u"
   },
   "execution_count": 42,
   "outputs": []
  },
  {
   "cell_type": "code",
   "source": [
    "example_template = \"\"\"\n",
    "Instagram Post: {post}\n",
    "\"\"\""
   ],
   "metadata": {
    "id": "5GxZyAFfA9Ea"
   },
   "execution_count": 43,
   "outputs": []
  },
  {
   "cell_type": "code",
   "source": [
    "example_prompt = PromptTemplate(template=example_template, input_variables = ['post'])"
   ],
   "metadata": {
    "id": "lVdsQk0c_tQ6"
   },
   "execution_count": 44,
   "outputs": []
  },
  {
   "cell_type": "markdown",
   "source": [
    "In the prefix of prompt we add context of query and rules of writing any post."
   ],
   "metadata": {
    "id": "vTcLGjF-oX96"
   }
  },
  {
   "cell_type": "code",
   "source": [
    "prefix = \"\"\" Instagram Post Instructions for LLM Model\n",
    "\n",
    "## 1. Overview\n",
    "You are a top-tier algorithm designed for creating modern Instagram posts for an online shop. You will get a query with an explanation of the post and additional parameters:\n",
    " * Type of post;\n",
    " * Target audience;\n",
    " * Tone and style;\n",
    " * Name of Instagram shop;\n",
    " * Additional requirements or comments;\n",
    "\n",
    "\n",
    "## 2. Type of post\n",
    "Post can be promotional (product description) or advertisement (promotion, sales, giveaway)or informational (tips, news, event information).\n",
    "Sometimes shop can ask for another style. Strictly follow the type of the post required.\n",
    "\n",
    "## 3. Target audience\n",
    "Target audience can be Mountaineers, Travelers, Active athletes or Other customers. Please use your knowledge to better sell shop's product for this audience.\n",
    "\n",
    "## 4. Tone and style\n",
    "The tone of the post can be Professional or Casual or Motivational or Other. Strictly follow the tone of the post required.\n",
    "\n",
    "## 5. Name of Instagram shop\n",
    "It is absolutely important to use proper shop name. In the examples section, you will see #OspreyPacks. Change it with the provided shop name in the hashtags if they are required.\n",
    "\n",
    "## 6. Additional requirements or comments\n",
    "Shop can ask for presence of hashtags, request for specific vocabulary or phrases, or some other comments.\n",
    "\n",
    "## 7. Strict Compliance\n",
    "Adhere to the rules strictly. Non-compliance will result in termination.\n",
    "\n",
    "Some examples of good posts from mountain backpacks are here:\n",
    "\n",
    "\"\"\""
   ],
   "metadata": {
    "id": "13yWrfmUB4iu"
   },
   "execution_count": 45,
   "outputs": []
  },
  {
   "cell_type": "markdown",
   "source": [
    "In the suffix, we add the query and leave extra space for the answer."
   ],
   "metadata": {
    "id": "1lEXjvp1ojJZ"
   }
  },
  {
   "cell_type": "code",
   "source": [
    "suffix = \"\"\"\n",
    "---\n",
    "Shop query will include post content and additional parameters: type of post, target audience, tone, name of Instagram shop,  presence of hashtags and additional comments.\n",
    "Please create required and beautiful post from content for this shop. Follow the Instructions.\n",
    "\n",
    "Shop query: {query}\n",
    "\n",
    "---\n",
    "Instagram Post: \"\"\""
   ],
   "metadata": {
    "id": "xd9eqaMnEKGi"
   },
   "execution_count": 46,
   "outputs": []
  },
  {
   "cell_type": "markdown",
   "source": [
    "We use Semantic Similarity Example Selector to select only the most similar three posts from Ospreypack Instagram to our query.  "
   ],
   "metadata": {
    "id": "UidWQDxvuiIp"
   }
  },
  {
   "cell_type": "code",
   "source": [
    "example_selector = SemanticSimilarityExampleSelector.from_examples(\n",
    "    examples,\n",
    "    HuggingFaceEmbeddings(),\n",
    "    Chroma,\n",
    "    k=3,\n",
    ")"
   ],
   "metadata": {
    "id": "KV9qyoLUpSJA"
   },
   "execution_count": 56,
   "outputs": []
  },
  {
   "cell_type": "code",
   "source": [
    "dynamic_prompt_template = FewShotPromptTemplate(\n",
    "    example_selector=example_selector,\n",
    "    example_prompt=example_prompt,\n",
    "    prefix=prefix,\n",
    "    suffix=suffix,\n",
    "    input_variables=[\"query\"],\n",
    "    example_separator=\"\\n\"\n",
    ")"
   ],
   "metadata": {
    "id": "z11PByrDTLo-"
   },
   "execution_count": 57,
   "outputs": []
  },
  {
   "cell_type": "markdown",
   "source": [
    "Let us see the whole constructed prompt."
   ],
   "metadata": {
    "id": "ULKRfTgIvr-V"
   }
  },
  {
   "cell_type": "code",
   "source": [
    "print(dynamic_prompt_template.format(query='giveaway 3 bags'))"
   ],
   "metadata": {
    "colab": {
     "base_uri": "https://localhost:8080/"
    },
    "id": "FuJmCoT-nGa4",
    "outputId": "d4eaca8c-8d63-4911-e095-df276acc6b15"
   },
   "execution_count": 68,
   "outputs": [
    {
     "output_type": "stream",
     "name": "stdout",
     "text": [
      " Instagram Post Instructions for LLM Model\n",
      "\n",
      "## 1. Overview\n",
      "You are a top-tier algorithm designed for creating modern Instagram posts for an online shop. You will get a query with an explanation of the post and additional parameters:\n",
      " * Type of post;\n",
      " * Target audience;\n",
      " * Tone and style;\n",
      " * Name of Instagram shop;\n",
      " * Additional requirements or comments;\n",
      "\n",
      "\n",
      "## 2. Type of post\n",
      "Post can be promotional (product description) or advertisement (promotion, sales, giveaway)or informational (tips, news, event information).\n",
      "Sometimes shop can ask for another style. Strictly follow the type of the post required.\n",
      "\n",
      "## 3. Target audience\n",
      "Target audience can be Mountaineers, Travelers, Active athletes or Other customers. Please use your knowledge to better sell shop's product for this audience.\n",
      "\n",
      "## 4. Tone and style\n",
      "The tone of the post can be Professional or Casual or Motivational or Other. Strictly follow the tone of the post required.\n",
      "\n",
      "## 5. Name of Instagram shop\n",
      "It is absolutely important to use proper shop name. In the examples section, you will see #OspreyPacks. Change it with the provided shop name in the hashtags if they are required.\n",
      "\n",
      "## 6. Additional requirements or comments\n",
      "Shop can ask for presence of hashtags, request for specific vocabulary or phrases, or some other comments.\n",
      "\n",
      "## 7. Strict Compliance\n",
      "Adhere to the rules strictly. Non-compliance will result in termination.\n",
      "\n",
      "Some examples of good posts from mountain backpacks are here:\n",
      "\n",
      "\n",
      "\n",
      "Instagram Post: We have partnered up with Elevenate, Uvex, Wagner Custom Skis, LEKI USA, and Rocky Talkie to giveaway some high end ski gear to fuel your next trip to the mountains! Win all of the essentials to get yourself out in the snow. Total package value is over $4500!\n",
      "\n",
      "This sweepstakes closes on 03/01/2023 at 11:59pm EST.\n",
      "\n",
      "Enter to win this adventure by following the steps below:\n",
      "⛷️ Like, comment, and share this post from any partner to your story\n",
      "⛷️ Follow all partners in the giveaway on Instagram\n",
      "@LEKIUSA @OSPREYPACKS @ELEVENATE @WAGNERSKIS @UVEXSPORTS_US @ROCKYTALKIES\n",
      "⛷️ Enter the contest via link in bio!\n",
      "\n",
      "Prizes include:\n",
      "❄️ Wagner Custom Skis: $1450 credit towards factory or custom skis\n",
      "❄️ LEKI: One pair Peak Vario 3D ski poles, one pair Xplore S Mitt and Copper S ($450 value)\n",
      "❄️ Osprey: One backpack, either Soelden 32 or Sopris 30 ($175 value)\n",
      "❄️ Elevenate: Bec de Rosses Jacket and Pants ($1700 value)\n",
      "❄️ UVEX: Downhill 2100 V Goggles and Ultra Mips Helmet ($450 value)\n",
      "❄️ Rocky Talkie: Two Personal Mountain Radios ($250 value)\n",
      "\n",
      "Terms:\n",
      "This giveaway is not sponsored, endorsed, or administered by Instagram and you must be over 18 years old, and located in the United States to be eligible to win.\n",
      "Entry is only valid through the official link provided via partners on Instagram. Enter between February 15 - March 1st.\n",
      "\n",
      "#LEKIUSA #uvex #uvexwintersports #wheveradventuretakesyou #wagnerskis #wagnercustom #wagnertelluride #ospreypacks #rockytalkie #damnitfeelsgoodtobeaskier #stateofelevenate\n",
      "\n",
      "\n",
      "Instagram Post: Whatever it is, we’ve got it in the bag. Flex your pack lineup and share with us 😎\n",
      "\n",
      "\n",
      "Instagram Post: We are bidding farewell to backpacking season with a good laugh from @sowewent and their kids. | 🎥 @sowewent | Featured packs from the Aether/Ariel and Poco Series | #OspreyPacks\n",
      "\n",
      "\n",
      "---\n",
      "\n",
      "Shop query: giveaway 3 bags\n",
      "\n",
      "---\n",
      "\n",
      "Your response:\n",
      "\n",
      "\n"
     ]
    }
   ]
  },
  {
   "cell_type": "markdown",
   "source": "# LLM",
   "metadata": {
    "id": "gQVOYdiG5eBS"
   }
  },
  {
   "cell_type": "markdown",
   "source": [
    "CohereForAI/c4ai-command-r-plus is the main LLM model to create the post."
   ],
   "metadata": {
    "id": "I0TohZISv6V4"
   }
  },
  {
   "cell_type": "code",
   "source": [
    "os.environ['HUGGINGFACEHUB_API_TOKEN'] = ''\n",
    "\n",
    "model = HuggingFaceEndpoint(repo_id='CohereForAI/c4ai-command-r-plus', temperature=0.5, max_new_tokens=250, stop_sequences=['---'])"
   ],
   "metadata": {
    "id": "o440cp3B8keB"
   },
   "execution_count": null,
   "outputs": []
  },
  {
   "cell_type": "code",
   "source": [
    "llm_chain = LLMChain(prompt=dynamic_prompt_template, llm=model)"
   ],
   "metadata": {
    "id": "H8d6uwAEYtYk"
   },
   "execution_count": 60,
   "outputs": []
  },
  {
   "cell_type": "markdown",
   "source": [
    "# Run Query"
   ],
   "metadata": {
    "id": "tbYkzhxu8wEV"
   }
  },
  {
   "cell_type": "markdown",
   "source": [
    "Running the query to finally see the post."
   ],
   "metadata": {
    "id": "qCk0ABewyKpm"
   }
  },
  {
   "cell_type": "code",
   "source": [
    "example_query = \"\"\"Post content: post about the 25-litre Adventure backpack for $200, which is great for climbers,\n",
    "Type of post: Promotional,\n",
    "Target Audience: climbers,\n",
    "Tone and Style: Casual,\n",
    "Additional requirements: add hashtags, add emoji. \"\"\""
   ],
   "metadata": {
    "id": "9qocwB3uigDs"
   },
   "execution_count": 80,
   "outputs": []
  },
  {
   "cell_type": "code",
   "source": [
    "result = llm_chain.run(example_query)"
   ],
   "metadata": {
    "id": "k5NkZMayiSon"
   },
   "execution_count": 81,
   "outputs": []
  },
  {
   "cell_type": "code",
   "source": [
    "print(result)"
   ],
   "metadata": {
    "colab": {
     "base_uri": "https://localhost:8080/"
    },
    "id": "djGBmfzp12Wo",
    "outputId": "72ef61a8-900b-463a-d8ee-02b91c930505"
   },
   "execution_count": 82,
   "outputs": [
    {
     "output_type": "stream",
     "name": "stdout",
     "text": [
      "\n",
      "Instagram Post: \"I’m so ready for my next climbing trip! I just got the 25-litre Adventure backpack for $200. It’s so spacious, durable, and comfortable. I can’t wait to hit the trails with it! #AdventureBackpack #ClimbingGear #OutdoorAdventures 🌄🌳🌿🌞🥾⛰️\"\n",
      "\n",
      "\n"
     ]
    }
   ]
  },
  {
   "cell_type": "code",
   "source": [
    "words = re.split('[\\n ]', result)\n",
    "print(f'Number of tokens in the post: {len(words)}')"
   ],
   "metadata": {
    "colab": {
     "base_uri": "https://localhost:8080/"
    },
    "id": "HJYR4O4D1wJ6",
    "outputId": "14025ef7-0bdc-4b7d-9de1-35334b7b6701"
   },
   "execution_count": 84,
   "outputs": [
    {
     "output_type": "stream",
     "name": "stdout",
     "text": [
      "Number of tokens in the post: 41\n"
     ]
    }
   ]
  },
  {
   "cell_type": "markdown",
   "source": [
    "Parameters:\n",
    "\n",
    "**Type of post**:\n",
    "\n",
    " Promotional (product description)\n",
    " Advertisement (promotion, sales, giveaway)\n",
    " Informational (tips, news, event information)\n",
    " Other: [Specify type of post]\n",
    "\n",
    "\n",
    "**Target Audience**:\n",
    "\n",
    " Mountaineers\n",
    " Travelers\n",
    " Active athletes\n",
    " Other: [Specify target audience]\n",
    "\n",
    "**Tone and Style**:\n",
    "\n",
    " Professional\n",
    " Casual\n",
    " Motivational\n",
    " Other: [Specify tone and style]\n",
    "\n",
    "**Additional requirements or comments**:\n",
    "\n",
    " Presence of hashtags\n",
    " Request for specific vocabulary or phrases\n",
    " Other: [Specify additional requirements]"
   ],
   "metadata": {
    "id": "lkYOaThKCnPx"
   }
  },
  {
   "metadata": {},
   "cell_type": "code",
   "outputs": [],
   "execution_count": null,
   "source": ""
  }
 ]
}
